{
 "cells": [
  {
   "cell_type": "markdown",
   "metadata": {},
   "source": [
    "**Data Description:**\n",
    "* Train: Contains the coupons offered to the given customers under 18 campaigns.\n",
    "* Campaign Data: Campaign info for each of the 18 campaigns present in the train data.\n",
    "* Coupon item mapping: Mapping of coupon and items valid for discount under that\n",
    "coupon.\n",
    "* Customer demographics: Transaction data for all customers for the duration of\n",
    "campaigns in the train data.\n",
    "* Item Data: Item info for each item sold by retailer.\n"
   ]
  },
  {
   "cell_type": "markdown",
   "metadata": {},
   "source": [
    "### Import helpful libraries and packages "
   ]
  },
  {
   "cell_type": "code",
   "execution_count": 1,
   "metadata": {},
   "outputs": [],
   "source": [
    "import pandas as pd  # data processing\n",
    "import numpy as np   # linear algebra\n",
    "import numpy as np\n",
    "import pandas as pd\n",
    "import matplotlib.pyplot as plt\n",
    "import seaborn as sns\n",
    "import re\n",
    "from sklearn.preprocessing import LabelEncoder\n",
    "from scipy.stats import mode\n",
    "from sklearn.model_selection import train_test_split\n",
    "\n",
    "from sklearn.metrics import classification_report,roc_auc_score,roc_curve\n",
    "from sklearn.model_selection import train_test_split \n",
    "from sklearn.linear_model import LogisticRegression\n",
    "encoder = LabelEncoder()"
   ]
  },
  {
   "cell_type": "markdown",
   "metadata": {},
   "source": [
    "### Import Data : CSV file I/O (e.g. pd.read_csv) "
   ]
  },
  {
   "cell_type": "markdown",
   "metadata": {},
   "source": [
    "### As test.csv is missing in dataset. I am splitting train data into train and test dataset."
   ]
  },
  {
   "cell_type": "code",
   "execution_count": 2,
   "metadata": {},
   "outputs": [],
   "source": [
    "train = pd.read_csv('train.csv')"
   ]
  },
  {
   "cell_type": "code",
   "execution_count": 3,
   "metadata": {},
   "outputs": [
    {
     "name": "stdout",
     "output_type": "stream",
     "text": [
      "Rows in train_data: 62695\n",
      "Rows in test_data: 15674\n",
      "\n"
     ]
    }
   ],
   "source": [
    "train_data, test_data = train_test_split(train, test_size=0.2, random_state=42)\n",
    "print(f\"Rows in train_data: {len(train_data)}\\nRows in test_data: {len(test_data)}\\n\")"
   ]
  },
  {
   "cell_type": "code",
   "execution_count": 4,
   "metadata": {},
   "outputs": [
    {
     "data": {
      "text/plain": [
       "(62695, 5)"
      ]
     },
     "execution_count": 4,
     "metadata": {},
     "output_type": "execute_result"
    }
   ],
   "source": [
    "train_data.shape"
   ]
  },
  {
   "cell_type": "code",
   "execution_count": 5,
   "metadata": {},
   "outputs": [
    {
     "data": {
      "text/plain": [
       "(15674, 5)"
      ]
     },
     "execution_count": 5,
     "metadata": {},
     "output_type": "execute_result"
    }
   ],
   "source": [
    "test_data.shape"
   ]
  },
  {
   "cell_type": "code",
   "execution_count": 6,
   "metadata": {},
   "outputs": [
    {
     "data": {
      "text/html": [
       "<div>\n",
       "<style scoped>\n",
       "    .dataframe tbody tr th:only-of-type {\n",
       "        vertical-align: middle;\n",
       "    }\n",
       "\n",
       "    .dataframe tbody tr th {\n",
       "        vertical-align: top;\n",
       "    }\n",
       "\n",
       "    .dataframe thead th {\n",
       "        text-align: right;\n",
       "    }\n",
       "</style>\n",
       "<table border=\"1\" class=\"dataframe\">\n",
       "  <thead>\n",
       "    <tr style=\"text-align: right;\">\n",
       "      <th></th>\n",
       "      <th>id</th>\n",
       "      <th>campaign_id</th>\n",
       "      <th>coupon_id</th>\n",
       "      <th>customer_id</th>\n",
       "      <th>redemption_status</th>\n",
       "    </tr>\n",
       "  </thead>\n",
       "  <tbody>\n",
       "    <tr>\n",
       "      <th>33752</th>\n",
       "      <td>55309</td>\n",
       "      <td>8</td>\n",
       "      <td>727</td>\n",
       "      <td>316</td>\n",
       "      <td>0</td>\n",
       "    </tr>\n",
       "    <tr>\n",
       "      <th>59685</th>\n",
       "      <td>98055</td>\n",
       "      <td>13</td>\n",
       "      <td>172</td>\n",
       "      <td>1052</td>\n",
       "      <td>0</td>\n",
       "    </tr>\n",
       "    <tr>\n",
       "      <th>55005</th>\n",
       "      <td>90411</td>\n",
       "      <td>13</td>\n",
       "      <td>692</td>\n",
       "      <td>668</td>\n",
       "      <td>0</td>\n",
       "    </tr>\n",
       "    <tr>\n",
       "      <th>37692</th>\n",
       "      <td>61880</td>\n",
       "      <td>8</td>\n",
       "      <td>1015</td>\n",
       "      <td>60</td>\n",
       "      <td>0</td>\n",
       "    </tr>\n",
       "    <tr>\n",
       "      <th>58490</th>\n",
       "      <td>96107</td>\n",
       "      <td>8</td>\n",
       "      <td>76</td>\n",
       "      <td>1546</td>\n",
       "      <td>0</td>\n",
       "    </tr>\n",
       "  </tbody>\n",
       "</table>\n",
       "</div>"
      ],
      "text/plain": [
       "          id  campaign_id  coupon_id  customer_id  redemption_status\n",
       "33752  55309            8        727          316                  0\n",
       "59685  98055           13        172         1052                  0\n",
       "55005  90411           13        692          668                  0\n",
       "37692  61880            8       1015           60                  0\n",
       "58490  96107            8         76         1546                  0"
      ]
     },
     "execution_count": 6,
     "metadata": {},
     "output_type": "execute_result"
    }
   ],
   "source": [
    "df_train = train_data\n",
    "df_train.head()"
   ]
  },
  {
   "cell_type": "code",
   "execution_count": 7,
   "metadata": {},
   "outputs": [
    {
     "data": {
      "text/html": [
       "<div>\n",
       "<style scoped>\n",
       "    .dataframe tbody tr th:only-of-type {\n",
       "        vertical-align: middle;\n",
       "    }\n",
       "\n",
       "    .dataframe tbody tr th {\n",
       "        vertical-align: top;\n",
       "    }\n",
       "\n",
       "    .dataframe thead th {\n",
       "        text-align: right;\n",
       "    }\n",
       "</style>\n",
       "<table border=\"1\" class=\"dataframe\">\n",
       "  <thead>\n",
       "    <tr style=\"text-align: right;\">\n",
       "      <th></th>\n",
       "      <th>id</th>\n",
       "      <th>campaign_id</th>\n",
       "      <th>coupon_id</th>\n",
       "      <th>customer_id</th>\n",
       "      <th>redemption_status</th>\n",
       "    </tr>\n",
       "  </thead>\n",
       "  <tbody>\n",
       "    <tr>\n",
       "      <th>58231</th>\n",
       "      <td>95681</td>\n",
       "      <td>8</td>\n",
       "      <td>711</td>\n",
       "      <td>421</td>\n",
       "      <td>0</td>\n",
       "    </tr>\n",
       "    <tr>\n",
       "      <th>39245</th>\n",
       "      <td>64423</td>\n",
       "      <td>26</td>\n",
       "      <td>739</td>\n",
       "      <td>303</td>\n",
       "      <td>0</td>\n",
       "    </tr>\n",
       "    <tr>\n",
       "      <th>57587</th>\n",
       "      <td>94649</td>\n",
       "      <td>30</td>\n",
       "      <td>683</td>\n",
       "      <td>378</td>\n",
       "      <td>0</td>\n",
       "    </tr>\n",
       "    <tr>\n",
       "      <th>6702</th>\n",
       "      <td>11135</td>\n",
       "      <td>8</td>\n",
       "      <td>920</td>\n",
       "      <td>42</td>\n",
       "      <td>0</td>\n",
       "    </tr>\n",
       "    <tr>\n",
       "      <th>10153</th>\n",
       "      <td>16742</td>\n",
       "      <td>8</td>\n",
       "      <td>68</td>\n",
       "      <td>1146</td>\n",
       "      <td>0</td>\n",
       "    </tr>\n",
       "  </tbody>\n",
       "</table>\n",
       "</div>"
      ],
      "text/plain": [
       "          id  campaign_id  coupon_id  customer_id  redemption_status\n",
       "58231  95681            8        711          421                  0\n",
       "39245  64423           26        739          303                  0\n",
       "57587  94649           30        683          378                  0\n",
       "6702   11135            8        920           42                  0\n",
       "10153  16742            8         68         1146                  0"
      ]
     },
     "execution_count": 7,
     "metadata": {},
     "output_type": "execute_result"
    }
   ],
   "source": [
    "df_test = test_data\n",
    "df_test.head()"
   ]
  },
  {
   "cell_type": "code",
   "execution_count": 8,
   "metadata": {},
   "outputs": [
    {
     "data": {
      "text/html": [
       "<div>\n",
       "<style scoped>\n",
       "    .dataframe tbody tr th:only-of-type {\n",
       "        vertical-align: middle;\n",
       "    }\n",
       "\n",
       "    .dataframe tbody tr th {\n",
       "        vertical-align: top;\n",
       "    }\n",
       "\n",
       "    .dataframe thead th {\n",
       "        text-align: right;\n",
       "    }\n",
       "</style>\n",
       "<table border=\"1\" class=\"dataframe\">\n",
       "  <thead>\n",
       "    <tr style=\"text-align: right;\">\n",
       "      <th></th>\n",
       "      <th>campaign_id</th>\n",
       "      <th>campaign_type</th>\n",
       "      <th>start_date</th>\n",
       "      <th>end_date</th>\n",
       "    </tr>\n",
       "  </thead>\n",
       "  <tbody>\n",
       "    <tr>\n",
       "      <th>0</th>\n",
       "      <td>24</td>\n",
       "      <td>Y</td>\n",
       "      <td>21/10/13</td>\n",
       "      <td>20/12/13</td>\n",
       "    </tr>\n",
       "    <tr>\n",
       "      <th>1</th>\n",
       "      <td>25</td>\n",
       "      <td>Y</td>\n",
       "      <td>21/10/13</td>\n",
       "      <td>22/11/13</td>\n",
       "    </tr>\n",
       "    <tr>\n",
       "      <th>2</th>\n",
       "      <td>20</td>\n",
       "      <td>Y</td>\n",
       "      <td>07/09/13</td>\n",
       "      <td>16/11/13</td>\n",
       "    </tr>\n",
       "    <tr>\n",
       "      <th>3</th>\n",
       "      <td>23</td>\n",
       "      <td>Y</td>\n",
       "      <td>08/10/13</td>\n",
       "      <td>15/11/13</td>\n",
       "    </tr>\n",
       "    <tr>\n",
       "      <th>4</th>\n",
       "      <td>21</td>\n",
       "      <td>Y</td>\n",
       "      <td>16/09/13</td>\n",
       "      <td>18/10/13</td>\n",
       "    </tr>\n",
       "  </tbody>\n",
       "</table>\n",
       "</div>"
      ],
      "text/plain": [
       "   campaign_id campaign_type start_date  end_date\n",
       "0           24             Y   21/10/13  20/12/13\n",
       "1           25             Y   21/10/13  22/11/13\n",
       "2           20             Y   07/09/13  16/11/13\n",
       "3           23             Y   08/10/13  15/11/13\n",
       "4           21             Y   16/09/13  18/10/13"
      ]
     },
     "execution_count": 8,
     "metadata": {},
     "output_type": "execute_result"
    }
   ],
   "source": [
    "df_cam_data = pd.read_csv('campaign_data.csv')\n",
    "df_cam_data.head(5)"
   ]
  },
  {
   "cell_type": "code",
   "execution_count": 9,
   "metadata": {},
   "outputs": [
    {
     "data": {
      "text/html": [
       "<div>\n",
       "<style scoped>\n",
       "    .dataframe tbody tr th:only-of-type {\n",
       "        vertical-align: middle;\n",
       "    }\n",
       "\n",
       "    .dataframe tbody tr th {\n",
       "        vertical-align: top;\n",
       "    }\n",
       "\n",
       "    .dataframe thead th {\n",
       "        text-align: right;\n",
       "    }\n",
       "</style>\n",
       "<table border=\"1\" class=\"dataframe\">\n",
       "  <thead>\n",
       "    <tr style=\"text-align: right;\">\n",
       "      <th></th>\n",
       "      <th>coupon_id</th>\n",
       "      <th>item_id</th>\n",
       "    </tr>\n",
       "  </thead>\n",
       "  <tbody>\n",
       "    <tr>\n",
       "      <th>0</th>\n",
       "      <td>105</td>\n",
       "      <td>37</td>\n",
       "    </tr>\n",
       "    <tr>\n",
       "      <th>1</th>\n",
       "      <td>107</td>\n",
       "      <td>75</td>\n",
       "    </tr>\n",
       "    <tr>\n",
       "      <th>2</th>\n",
       "      <td>494</td>\n",
       "      <td>76</td>\n",
       "    </tr>\n",
       "    <tr>\n",
       "      <th>3</th>\n",
       "      <td>522</td>\n",
       "      <td>77</td>\n",
       "    </tr>\n",
       "    <tr>\n",
       "      <th>4</th>\n",
       "      <td>518</td>\n",
       "      <td>77</td>\n",
       "    </tr>\n",
       "  </tbody>\n",
       "</table>\n",
       "</div>"
      ],
      "text/plain": [
       "   coupon_id  item_id\n",
       "0        105       37\n",
       "1        107       75\n",
       "2        494       76\n",
       "3        522       77\n",
       "4        518       77"
      ]
     },
     "execution_count": 9,
     "metadata": {},
     "output_type": "execute_result"
    }
   ],
   "source": [
    "df_coup_item = pd.read_csv('coupon_item_mapping.csv')\n",
    "df_coup_item.head(5)"
   ]
  },
  {
   "cell_type": "code",
   "execution_count": 10,
   "metadata": {},
   "outputs": [
    {
     "data": {
      "text/html": [
       "<div>\n",
       "<style scoped>\n",
       "    .dataframe tbody tr th:only-of-type {\n",
       "        vertical-align: middle;\n",
       "    }\n",
       "\n",
       "    .dataframe tbody tr th {\n",
       "        vertical-align: top;\n",
       "    }\n",
       "\n",
       "    .dataframe thead th {\n",
       "        text-align: right;\n",
       "    }\n",
       "</style>\n",
       "<table border=\"1\" class=\"dataframe\">\n",
       "  <thead>\n",
       "    <tr style=\"text-align: right;\">\n",
       "      <th></th>\n",
       "      <th>customer_id</th>\n",
       "      <th>age_range</th>\n",
       "      <th>marital_status</th>\n",
       "      <th>rented</th>\n",
       "      <th>family_size</th>\n",
       "      <th>no_of_children</th>\n",
       "      <th>income_bracket</th>\n",
       "    </tr>\n",
       "  </thead>\n",
       "  <tbody>\n",
       "    <tr>\n",
       "      <th>0</th>\n",
       "      <td>1</td>\n",
       "      <td>70+</td>\n",
       "      <td>Married</td>\n",
       "      <td>0</td>\n",
       "      <td>2</td>\n",
       "      <td>NaN</td>\n",
       "      <td>4</td>\n",
       "    </tr>\n",
       "    <tr>\n",
       "      <th>1</th>\n",
       "      <td>6</td>\n",
       "      <td>46-55</td>\n",
       "      <td>Married</td>\n",
       "      <td>0</td>\n",
       "      <td>2</td>\n",
       "      <td>NaN</td>\n",
       "      <td>5</td>\n",
       "    </tr>\n",
       "    <tr>\n",
       "      <th>2</th>\n",
       "      <td>7</td>\n",
       "      <td>26-35</td>\n",
       "      <td>NaN</td>\n",
       "      <td>0</td>\n",
       "      <td>3</td>\n",
       "      <td>1</td>\n",
       "      <td>3</td>\n",
       "    </tr>\n",
       "    <tr>\n",
       "      <th>3</th>\n",
       "      <td>8</td>\n",
       "      <td>26-35</td>\n",
       "      <td>NaN</td>\n",
       "      <td>0</td>\n",
       "      <td>4</td>\n",
       "      <td>2</td>\n",
       "      <td>6</td>\n",
       "    </tr>\n",
       "    <tr>\n",
       "      <th>4</th>\n",
       "      <td>10</td>\n",
       "      <td>46-55</td>\n",
       "      <td>Single</td>\n",
       "      <td>0</td>\n",
       "      <td>1</td>\n",
       "      <td>NaN</td>\n",
       "      <td>5</td>\n",
       "    </tr>\n",
       "  </tbody>\n",
       "</table>\n",
       "</div>"
      ],
      "text/plain": [
       "   customer_id age_range marital_status  rented family_size no_of_children  \\\n",
       "0            1       70+        Married       0           2            NaN   \n",
       "1            6     46-55        Married       0           2            NaN   \n",
       "2            7     26-35            NaN       0           3              1   \n",
       "3            8     26-35            NaN       0           4              2   \n",
       "4           10     46-55         Single       0           1            NaN   \n",
       "\n",
       "   income_bracket  \n",
       "0               4  \n",
       "1               5  \n",
       "2               3  \n",
       "3               6  \n",
       "4               5  "
      ]
     },
     "execution_count": 10,
     "metadata": {},
     "output_type": "execute_result"
    }
   ],
   "source": [
    "df_customer_demo = pd.read_csv('customer_demographics.csv')\n",
    "df_customer_demo.head(5)"
   ]
  },
  {
   "cell_type": "code",
   "execution_count": 11,
   "metadata": {},
   "outputs": [
    {
     "data": {
      "text/html": [
       "<div>\n",
       "<style scoped>\n",
       "    .dataframe tbody tr th:only-of-type {\n",
       "        vertical-align: middle;\n",
       "    }\n",
       "\n",
       "    .dataframe tbody tr th {\n",
       "        vertical-align: top;\n",
       "    }\n",
       "\n",
       "    .dataframe thead th {\n",
       "        text-align: right;\n",
       "    }\n",
       "</style>\n",
       "<table border=\"1\" class=\"dataframe\">\n",
       "  <thead>\n",
       "    <tr style=\"text-align: right;\">\n",
       "      <th></th>\n",
       "      <th>date</th>\n",
       "      <th>customer_id</th>\n",
       "      <th>item_id</th>\n",
       "      <th>quantity</th>\n",
       "      <th>selling_price</th>\n",
       "      <th>other_discount</th>\n",
       "      <th>coupon_discount</th>\n",
       "    </tr>\n",
       "  </thead>\n",
       "  <tbody>\n",
       "    <tr>\n",
       "      <th>0</th>\n",
       "      <td>2012-01-02</td>\n",
       "      <td>1501</td>\n",
       "      <td>26830</td>\n",
       "      <td>1</td>\n",
       "      <td>35.26</td>\n",
       "      <td>-10.69</td>\n",
       "      <td>0.0</td>\n",
       "    </tr>\n",
       "    <tr>\n",
       "      <th>1</th>\n",
       "      <td>2012-01-02</td>\n",
       "      <td>1501</td>\n",
       "      <td>54253</td>\n",
       "      <td>1</td>\n",
       "      <td>53.43</td>\n",
       "      <td>-13.89</td>\n",
       "      <td>0.0</td>\n",
       "    </tr>\n",
       "    <tr>\n",
       "      <th>2</th>\n",
       "      <td>2012-01-02</td>\n",
       "      <td>1501</td>\n",
       "      <td>31962</td>\n",
       "      <td>1</td>\n",
       "      <td>106.50</td>\n",
       "      <td>-14.25</td>\n",
       "      <td>0.0</td>\n",
       "    </tr>\n",
       "    <tr>\n",
       "      <th>3</th>\n",
       "      <td>2012-01-02</td>\n",
       "      <td>1501</td>\n",
       "      <td>33647</td>\n",
       "      <td>1</td>\n",
       "      <td>67.32</td>\n",
       "      <td>0.00</td>\n",
       "      <td>0.0</td>\n",
       "    </tr>\n",
       "    <tr>\n",
       "      <th>4</th>\n",
       "      <td>2012-01-02</td>\n",
       "      <td>1501</td>\n",
       "      <td>48199</td>\n",
       "      <td>1</td>\n",
       "      <td>71.24</td>\n",
       "      <td>-28.14</td>\n",
       "      <td>0.0</td>\n",
       "    </tr>\n",
       "  </tbody>\n",
       "</table>\n",
       "</div>"
      ],
      "text/plain": [
       "         date  customer_id  item_id  quantity  selling_price  other_discount  \\\n",
       "0  2012-01-02         1501    26830         1          35.26          -10.69   \n",
       "1  2012-01-02         1501    54253         1          53.43          -13.89   \n",
       "2  2012-01-02         1501    31962         1         106.50          -14.25   \n",
       "3  2012-01-02         1501    33647         1          67.32            0.00   \n",
       "4  2012-01-02         1501    48199         1          71.24          -28.14   \n",
       "\n",
       "   coupon_discount  \n",
       "0              0.0  \n",
       "1              0.0  \n",
       "2              0.0  \n",
       "3              0.0  \n",
       "4              0.0  "
      ]
     },
     "execution_count": 11,
     "metadata": {},
     "output_type": "execute_result"
    }
   ],
   "source": [
    "df_customer_tran = pd.read_csv('customer_transaction_data.csv')\n",
    "df_customer_tran.head(5)"
   ]
  },
  {
   "cell_type": "code",
   "execution_count": 12,
   "metadata": {},
   "outputs": [
    {
     "data": {
      "text/html": [
       "<div>\n",
       "<style scoped>\n",
       "    .dataframe tbody tr th:only-of-type {\n",
       "        vertical-align: middle;\n",
       "    }\n",
       "\n",
       "    .dataframe tbody tr th {\n",
       "        vertical-align: top;\n",
       "    }\n",
       "\n",
       "    .dataframe thead th {\n",
       "        text-align: right;\n",
       "    }\n",
       "</style>\n",
       "<table border=\"1\" class=\"dataframe\">\n",
       "  <thead>\n",
       "    <tr style=\"text-align: right;\">\n",
       "      <th></th>\n",
       "      <th>item_id</th>\n",
       "      <th>brand</th>\n",
       "      <th>brand_type</th>\n",
       "      <th>category</th>\n",
       "    </tr>\n",
       "  </thead>\n",
       "  <tbody>\n",
       "    <tr>\n",
       "      <th>0</th>\n",
       "      <td>1</td>\n",
       "      <td>1</td>\n",
       "      <td>Established</td>\n",
       "      <td>Grocery</td>\n",
       "    </tr>\n",
       "    <tr>\n",
       "      <th>1</th>\n",
       "      <td>2</td>\n",
       "      <td>1</td>\n",
       "      <td>Established</td>\n",
       "      <td>Miscellaneous</td>\n",
       "    </tr>\n",
       "    <tr>\n",
       "      <th>2</th>\n",
       "      <td>3</td>\n",
       "      <td>56</td>\n",
       "      <td>Local</td>\n",
       "      <td>Bakery</td>\n",
       "    </tr>\n",
       "    <tr>\n",
       "      <th>3</th>\n",
       "      <td>4</td>\n",
       "      <td>56</td>\n",
       "      <td>Local</td>\n",
       "      <td>Grocery</td>\n",
       "    </tr>\n",
       "    <tr>\n",
       "      <th>4</th>\n",
       "      <td>5</td>\n",
       "      <td>56</td>\n",
       "      <td>Local</td>\n",
       "      <td>Grocery</td>\n",
       "    </tr>\n",
       "  </tbody>\n",
       "</table>\n",
       "</div>"
      ],
      "text/plain": [
       "   item_id  brand   brand_type       category\n",
       "0        1      1  Established        Grocery\n",
       "1        2      1  Established  Miscellaneous\n",
       "2        3     56        Local         Bakery\n",
       "3        4     56        Local        Grocery\n",
       "4        5     56        Local        Grocery"
      ]
     },
     "execution_count": 12,
     "metadata": {},
     "output_type": "execute_result"
    }
   ],
   "source": [
    "df_item = pd.read_csv('item_data.csv')\n",
    "df_item.head(5)"
   ]
  },
  {
   "cell_type": "code",
   "execution_count": 13,
   "metadata": {},
   "outputs": [
    {
     "data": {
      "text/plain": [
       "((28, 4), (92663, 2), (760, 7), (1324566, 7), (74066, 4), (62695, 5))"
      ]
     },
     "execution_count": 13,
     "metadata": {},
     "output_type": "execute_result"
    }
   ],
   "source": [
    "df_cam_data.shape, df_coup_item.shape ,df_customer_demo.shape ,df_customer_tran.shape ,df_item.shape ,df_train.shape "
   ]
  },
  {
   "cell_type": "markdown",
   "metadata": {},
   "source": [
    "**Data view**"
   ]
  },
  {
   "cell_type": "code",
   "execution_count": 14,
   "metadata": {},
   "outputs": [
    {
     "name": "stdout",
     "output_type": "stream",
     "text": [
      "Train DataFrame\n"
     ]
    },
    {
     "data": {
      "text/plain": [
       "id                   0\n",
       "campaign_id          0\n",
       "coupon_id            0\n",
       "customer_id          0\n",
       "redemption_status    0\n",
       "dtype: int64"
      ]
     },
     "execution_count": 14,
     "metadata": {},
     "output_type": "execute_result"
    }
   ],
   "source": [
    "print('Train DataFrame')\n",
    "df_train.isnull().sum()"
   ]
  },
  {
   "cell_type": "code",
   "execution_count": 15,
   "metadata": {},
   "outputs": [
    {
     "name": "stdout",
     "output_type": "stream",
     "text": [
      "Test DateFrame\n"
     ]
    },
    {
     "data": {
      "text/plain": [
       "id                   0\n",
       "campaign_id          0\n",
       "coupon_id            0\n",
       "customer_id          0\n",
       "redemption_status    0\n",
       "dtype: int64"
      ]
     },
     "execution_count": 15,
     "metadata": {},
     "output_type": "execute_result"
    }
   ],
   "source": [
    "print('Test DateFrame')\n",
    "df_test.isnull().sum()"
   ]
  },
  {
   "cell_type": "code",
   "execution_count": 16,
   "metadata": {},
   "outputs": [
    {
     "name": "stdout",
     "output_type": "stream",
     "text": [
      "Campaign DataFrame\n"
     ]
    },
    {
     "data": {
      "text/plain": [
       "campaign_id      0\n",
       "campaign_type    0\n",
       "start_date       0\n",
       "end_date         0\n",
       "dtype: int64"
      ]
     },
     "execution_count": 16,
     "metadata": {},
     "output_type": "execute_result"
    }
   ],
   "source": [
    "print('Campaign DataFrame')\n",
    "df_cam_data.isnull().sum()"
   ]
  },
  {
   "cell_type": "code",
   "execution_count": 17,
   "metadata": {},
   "outputs": [
    {
     "name": "stdout",
     "output_type": "stream",
     "text": [
      "Coupon DataFrame\n"
     ]
    },
    {
     "data": {
      "text/plain": [
       "coupon_id    0\n",
       "item_id      0\n",
       "dtype: int64"
      ]
     },
     "execution_count": 17,
     "metadata": {},
     "output_type": "execute_result"
    }
   ],
   "source": [
    "print('Coupon DataFrame')\n",
    "df_coup_item.isnull().sum()"
   ]
  },
  {
   "cell_type": "code",
   "execution_count": 18,
   "metadata": {},
   "outputs": [
    {
     "name": "stdout",
     "output_type": "stream",
     "text": [
      "Customer Demographics DataFrame\n"
     ]
    },
    {
     "data": {
      "text/plain": [
       "customer_id         0\n",
       "age_range           0\n",
       "marital_status    329\n",
       "rented              0\n",
       "family_size         0\n",
       "no_of_children    538\n",
       "income_bracket      0\n",
       "dtype: int64"
      ]
     },
     "execution_count": 18,
     "metadata": {},
     "output_type": "execute_result"
    }
   ],
   "source": [
    "print('Customer Demographics DataFrame')\n",
    "df_customer_demo.isnull().sum()"
   ]
  },
  {
   "cell_type": "code",
   "execution_count": 19,
   "metadata": {},
   "outputs": [
    {
     "name": "stdout",
     "output_type": "stream",
     "text": [
      "Customer Transcation DataFrame\n"
     ]
    },
    {
     "data": {
      "text/plain": [
       "date               0\n",
       "customer_id        0\n",
       "item_id            0\n",
       "quantity           0\n",
       "selling_price      0\n",
       "other_discount     0\n",
       "coupon_discount    0\n",
       "dtype: int64"
      ]
     },
     "execution_count": 19,
     "metadata": {},
     "output_type": "execute_result"
    }
   ],
   "source": [
    "print('Customer Transcation DataFrame')\n",
    "df_customer_tran.isnull().sum()"
   ]
  },
  {
   "cell_type": "code",
   "execution_count": 20,
   "metadata": {},
   "outputs": [
    {
     "name": "stdout",
     "output_type": "stream",
     "text": [
      "Item DataFrame\n"
     ]
    },
    {
     "data": {
      "text/plain": [
       "item_id       0\n",
       "brand         0\n",
       "brand_type    0\n",
       "category      0\n",
       "dtype: int64"
      ]
     },
     "execution_count": 20,
     "metadata": {},
     "output_type": "execute_result"
    }
   ],
   "source": [
    "print('Item DataFrame')\n",
    "df_item.isnull().sum()"
   ]
  },
  {
   "cell_type": "code",
   "execution_count": 21,
   "metadata": {},
   "outputs": [
    {
     "data": {
      "text/plain": [
       "0    99.035011\n",
       "1     0.964989\n",
       "Name: redemption_status, dtype: float64"
      ]
     },
     "execution_count": 21,
     "metadata": {},
     "output_type": "execute_result"
    }
   ],
   "source": [
    "df_train.redemption_status.value_counts(normalize=True)*100"
   ]
  },
  {
   "cell_type": "code",
   "execution_count": 22,
   "metadata": {},
   "outputs": [
    {
     "data": {
      "text/plain": [
       "Text(0, 0.5, 'redemption_status')"
      ]
     },
     "execution_count": 22,
     "metadata": {},
     "output_type": "execute_result"
    },
    {
     "data": {
      "image/png": "[encoded data removed]",
      "text/plain": [
       "<Figure size 432x288 with 1 Axes>"
      ]
     },
     "metadata": {
      "needs_background": "light"
     },
     "output_type": "display_data"
    }
   ],
   "source": [
    "value=df_train['redemption_status'].value_counts().plot(kind='bar')\n",
    "plt.ylabel('redemption_status')"
   ]
  },
  {
   "cell_type": "markdown",
   "metadata": {},
   "source": [
    "### The dataset is highly imbalanced. "
   ]
  },
  {
   "cell_type": "markdown",
   "metadata": {},
   "source": [
    "## Data cleaning and formatting.\n"
   ]
  },
  {
   "cell_type": "code",
   "execution_count": 23,
   "metadata": {},
   "outputs": [
    {
     "name": "stdout",
     "output_type": "stream",
     "text": [
      "<class 'pandas.core.frame.DataFrame'>\n",
      "RangeIndex: 760 entries, 0 to 759\n",
      "Data columns (total 7 columns):\n",
      " #   Column          Non-Null Count  Dtype \n",
      "---  ------          --------------  ----- \n",
      " 0   customer_id     760 non-null    int64 \n",
      " 1   age_range       760 non-null    object\n",
      " 2   marital_status  431 non-null    object\n",
      " 3   rented          760 non-null    int64 \n",
      " 4   family_size     760 non-null    object\n",
      " 5   no_of_children  222 non-null    object\n",
      " 6   income_bracket  760 non-null    int64 \n",
      "dtypes: int64(3), object(4)\n",
      "memory usage: 41.7+ KB\n"
     ]
    }
   ],
   "source": [
    "df_customer_demo.info()"
   ]
  },
  {
   "cell_type": "code",
   "execution_count": 24,
   "metadata": {},
   "outputs": [
    {
     "data": {
      "text/plain": [
       "Married    317\n",
       "Single     114\n",
       "Name: marital_status, dtype: int64"
      ]
     },
     "execution_count": 24,
     "metadata": {},
     "output_type": "execute_result"
    }
   ],
   "source": [
    "df_customer_demo.marital_status.value_counts()"
   ]
  },
  {
   "cell_type": "code",
   "execution_count": 25,
   "metadata": {},
   "outputs": [
    {
     "data": {
      "text/plain": [
       "2     303\n",
       "1     248\n",
       "3     104\n",
       "5+     57\n",
       "4      48\n",
       "Name: family_size, dtype: int64"
      ]
     },
     "execution_count": 25,
     "metadata": {},
     "output_type": "execute_result"
    }
   ],
   "source": [
    "df_customer_demo.family_size.value_counts()"
   ]
  },
  {
   "cell_type": "code",
   "execution_count": 26,
   "metadata": {},
   "outputs": [
    {
     "data": {
      "text/plain": [
       "1     107\n",
       "3+     60\n",
       "2      55\n",
       "Name: no_of_children, dtype: int64"
      ]
     },
     "execution_count": 26,
     "metadata": {},
     "output_type": "execute_result"
    }
   ],
   "source": [
    "df_customer_demo.no_of_children.value_counts()"
   ]
  },
  {
   "cell_type": "code",
   "execution_count": 27,
   "metadata": {},
   "outputs": [
    {
     "data": {
      "text/plain": [
       "46-55    271\n",
       "36-45    187\n",
       "26-35    130\n",
       "70+       68\n",
       "56-70     59\n",
       "18-25     45\n",
       "Name: age_range, dtype: int64"
      ]
     },
     "execution_count": 27,
     "metadata": {},
     "output_type": "execute_result"
    }
   ],
   "source": [
    "df_customer_demo.age_range.value_counts()"
   ]
  },
  {
   "cell_type": "markdown",
   "metadata": {},
   "source": [
    "#### The below lines of code is to get rid of the + and keeping 5+ as 5 and 3+ as 3 and converting the columns to int data type.\n",
    "- use the apply() function to apply the lambda function to both rows and columns of a dataframe\n",
    "- The sub() function replaces the matches with the text of your choice"
   ]
  },
  {
   "cell_type": "code",
   "execution_count": 28,
   "metadata": {},
   "outputs": [],
   "source": [
    "df_customer_demo['family_size'] = df_customer_demo.family_size.apply(lambda x: int(re.sub('\\+','',x)))\n",
    "df_customer_demo['no_of_children'] = df_customer_demo.no_of_children.apply(lambda x: int(re.sub('\\+','',x)) if pd.notna(x) else x)\n"
   ]
  },
  {
   "cell_type": "markdown",
   "metadata": {},
   "source": [
    "#### Filling NaN values for marital_status\n"
   ]
  },
  {
   "cell_type": "code",
   "execution_count": 29,
   "metadata": {},
   "outputs": [],
   "source": [
    "#customers with family size =1 will be single\n",
    "df_customer_demo.loc[pd.isnull(df_customer_demo.marital_status) \n",
    "                     & (df_customer_demo.family_size == 1),'marital_status'] = 'Single'\n",
    "#customers whos family size - no of childrens == 1, will also be single \n",
    "df_customer_demo.loc[(df_customer_demo.family_size - df_customer_demo.no_of_children == 1) \n",
    "                     & pd.isnull(df_customer_demo.marital_status),'marital_status'] = 'Single'"
   ]
  },
  {
   "cell_type": "code",
   "execution_count": 30,
   "metadata": {},
   "outputs": [],
   "source": [
    "#Married (see the below cell) and hence where ever the difference is 2 and marital status is NaN and No of Children is NaN we impute the Mariatl Status with Married\n",
    "df_customer_demo.loc[(pd.isnull(df_customer_demo.marital_status)) \n",
    "                     & ((df_customer_demo.family_size - df_customer_demo.no_of_children) == 2) & (pd.notnull(df_customer_demo.no_of_children)),'marital_status'] = 'Married'"
   ]
  },
  {
   "cell_type": "code",
   "execution_count": 31,
   "metadata": {},
   "outputs": [],
   "source": [
    "#original data shows customers with fam size == 2, and NaN in no of childrens are majorly Married \n",
    "df_customer_demo.loc[pd.isnull(df_customer_demo.marital_status) & (pd.isnull(df_customer_demo.no_of_children)) \n",
    "              & (df_customer_demo.family_size ==2),'marital_status'] = 'Married'"
   ]
  },
  {
   "cell_type": "code",
   "execution_count": 32,
   "metadata": {},
   "outputs": [
    {
     "name": "stdout",
     "output_type": "stream",
     "text": [
      "marital_status\n",
      "Married    186\n",
      "Single      10\n",
      "Name: marital_status, dtype: int64\n"
     ]
    }
   ],
   "source": [
    "a = df_customer_demo.marital_status.groupby((df_customer_demo.family_size - df_customer_demo.no_of_children) == 2).value_counts()\n",
    "print(a[True])"
   ]
  },
  {
   "cell_type": "code",
   "execution_count": 33,
   "metadata": {},
   "outputs": [
    {
     "name": "stdout",
     "output_type": "stream",
     "text": [
      "310\n"
     ]
    }
   ],
   "source": [
    "b = df_customer_demo.marital_status.groupby((df_customer_demo.family_size) == 2 & pd.isnull(df_customer_demo.no_of_children)).value_counts()\n",
    "print(b[True])"
   ]
  },
  {
   "cell_type": "code",
   "execution_count": 34,
   "metadata": {},
   "outputs": [
    {
     "data": {
      "text/plain": [
       "0"
      ]
     },
     "execution_count": 34,
     "metadata": {},
     "output_type": "execute_result"
    }
   ],
   "source": [
    "df_customer_demo.marital_status.isnull().sum()"
   ]
  },
  {
   "cell_type": "markdown",
   "metadata": {},
   "source": [
    "#### Filling NaN values for no of children\n"
   ]
  },
  {
   "cell_type": "code",
   "execution_count": 35,
   "metadata": {},
   "outputs": [],
   "source": [
    "#Married people with family_size ==2 will have 0 childrens\n",
    "df_customer_demo.loc[pd.isnull(df_customer_demo.no_of_children) & (df_customer_demo.marital_status == 'Married') \n",
    "                     & (df_customer_demo.family_size == 2),'no_of_children'] = 0\n",
    "#customers with family size 1 will have zero childrens\n",
    "df_customer_demo.loc[pd.isnull(df_customer_demo.no_of_children) & (df_customer_demo.family_size == 1), 'no_of_children'] = 0"
   ]
  },
  {
   "cell_type": "code",
   "execution_count": 36,
   "metadata": {},
   "outputs": [],
   "source": [
    "#singles with family size == 2, will probably have 1 child\n",
    "df_customer_demo.loc[pd.isnull(df_customer_demo.no_of_children) & (df_customer_demo.family_size == 2),'no_of_children'] = 1"
   ]
  },
  {
   "cell_type": "code",
   "execution_count": 37,
   "metadata": {},
   "outputs": [],
   "source": [
    "df_customer_demo['no_of_children']=df_customer_demo['no_of_children'].astype(np.int64)"
   ]
  },
  {
   "cell_type": "code",
   "execution_count": 38,
   "metadata": {},
   "outputs": [
    {
     "data": {
      "text/plain": [
       "0"
      ]
     },
     "execution_count": 38,
     "metadata": {},
     "output_type": "execute_result"
    }
   ],
   "source": [
    "df_customer_demo.no_of_children.isnull().sum()"
   ]
  },
  {
   "cell_type": "code",
   "execution_count": 39,
   "metadata": {},
   "outputs": [
    {
     "name": "stdout",
     "output_type": "stream",
     "text": [
      "<class 'pandas.core.frame.DataFrame'>\n",
      "RangeIndex: 760 entries, 0 to 759\n",
      "Data columns (total 7 columns):\n",
      " #   Column          Non-Null Count  Dtype \n",
      "---  ------          --------------  ----- \n",
      " 0   customer_id     760 non-null    int64 \n",
      " 1   age_range       760 non-null    object\n",
      " 2   marital_status  760 non-null    object\n",
      " 3   rented          760 non-null    int64 \n",
      " 4   family_size     760 non-null    int64 \n",
      " 5   no_of_children  760 non-null    int64 \n",
      " 6   income_bracket  760 non-null    int64 \n",
      "dtypes: int64(5), object(2)\n",
      "memory usage: 41.7+ KB\n"
     ]
    }
   ],
   "source": [
    "df_customer_demo.info()"
   ]
  },
  {
   "cell_type": "markdown",
   "metadata": {},
   "source": [
    "#### age_range"
   ]
  },
  {
   "cell_type": "code",
   "execution_count": 40,
   "metadata": {},
   "outputs": [],
   "source": [
    "#Label Encoding Marital Status --- 0 is Single and 1 is Married\n",
    "df_customer_demo[\"marital_status\"] = encoder.fit_transform(df_customer_demo[\"marital_status\"])\n",
    "# Label Encoding age_range ... 18-25 is 0, 26-35 is 1, 36-45 is 2, 46-55 is 3, 56-70 is 4 and 70+ is 5\n",
    "df_customer_demo[\"age_range\"] = encoder.fit_transform(df_customer_demo[\"age_range\"])"
   ]
  },
  {
   "cell_type": "code",
   "execution_count": 41,
   "metadata": {},
   "outputs": [
    {
     "data": {
      "text/html": [
       "<div>\n",
       "<style scoped>\n",
       "    .dataframe tbody tr th:only-of-type {\n",
       "        vertical-align: middle;\n",
       "    }\n",
       "\n",
       "    .dataframe tbody tr th {\n",
       "        vertical-align: top;\n",
       "    }\n",
       "\n",
       "    .dataframe thead th {\n",
       "        text-align: right;\n",
       "    }\n",
       "</style>\n",
       "<table border=\"1\" class=\"dataframe\">\n",
       "  <thead>\n",
       "    <tr style=\"text-align: right;\">\n",
       "      <th></th>\n",
       "      <th>customer_id</th>\n",
       "      <th>age_range</th>\n",
       "      <th>marital_status</th>\n",
       "      <th>rented</th>\n",
       "      <th>family_size</th>\n",
       "      <th>no_of_children</th>\n",
       "      <th>income_bracket</th>\n",
       "    </tr>\n",
       "  </thead>\n",
       "  <tbody>\n",
       "    <tr>\n",
       "      <th>0</th>\n",
       "      <td>1</td>\n",
       "      <td>5</td>\n",
       "      <td>0</td>\n",
       "      <td>0</td>\n",
       "      <td>2</td>\n",
       "      <td>0</td>\n",
       "      <td>4</td>\n",
       "    </tr>\n",
       "    <tr>\n",
       "      <th>1</th>\n",
       "      <td>6</td>\n",
       "      <td>3</td>\n",
       "      <td>0</td>\n",
       "      <td>0</td>\n",
       "      <td>2</td>\n",
       "      <td>0</td>\n",
       "      <td>5</td>\n",
       "    </tr>\n",
       "    <tr>\n",
       "      <th>2</th>\n",
       "      <td>7</td>\n",
       "      <td>1</td>\n",
       "      <td>0</td>\n",
       "      <td>0</td>\n",
       "      <td>3</td>\n",
       "      <td>1</td>\n",
       "      <td>3</td>\n",
       "    </tr>\n",
       "    <tr>\n",
       "      <th>3</th>\n",
       "      <td>8</td>\n",
       "      <td>1</td>\n",
       "      <td>0</td>\n",
       "      <td>0</td>\n",
       "      <td>4</td>\n",
       "      <td>2</td>\n",
       "      <td>6</td>\n",
       "    </tr>\n",
       "    <tr>\n",
       "      <th>4</th>\n",
       "      <td>10</td>\n",
       "      <td>3</td>\n",
       "      <td>1</td>\n",
       "      <td>0</td>\n",
       "      <td>1</td>\n",
       "      <td>0</td>\n",
       "      <td>5</td>\n",
       "    </tr>\n",
       "    <tr>\n",
       "      <th>5</th>\n",
       "      <td>11</td>\n",
       "      <td>5</td>\n",
       "      <td>1</td>\n",
       "      <td>0</td>\n",
       "      <td>2</td>\n",
       "      <td>1</td>\n",
       "      <td>1</td>\n",
       "    </tr>\n",
       "    <tr>\n",
       "      <th>6</th>\n",
       "      <td>12</td>\n",
       "      <td>3</td>\n",
       "      <td>0</td>\n",
       "      <td>0</td>\n",
       "      <td>2</td>\n",
       "      <td>0</td>\n",
       "      <td>7</td>\n",
       "    </tr>\n",
       "    <tr>\n",
       "      <th>7</th>\n",
       "      <td>13</td>\n",
       "      <td>2</td>\n",
       "      <td>1</td>\n",
       "      <td>0</td>\n",
       "      <td>1</td>\n",
       "      <td>0</td>\n",
       "      <td>2</td>\n",
       "    </tr>\n",
       "    <tr>\n",
       "      <th>8</th>\n",
       "      <td>14</td>\n",
       "      <td>1</td>\n",
       "      <td>0</td>\n",
       "      <td>1</td>\n",
       "      <td>2</td>\n",
       "      <td>0</td>\n",
       "      <td>6</td>\n",
       "    </tr>\n",
       "    <tr>\n",
       "      <th>9</th>\n",
       "      <td>15</td>\n",
       "      <td>3</td>\n",
       "      <td>0</td>\n",
       "      <td>0</td>\n",
       "      <td>2</td>\n",
       "      <td>0</td>\n",
       "      <td>6</td>\n",
       "    </tr>\n",
       "  </tbody>\n",
       "</table>\n",
       "</div>"
      ],
      "text/plain": [
       "   customer_id  age_range  marital_status  rented  family_size  \\\n",
       "0            1          5               0       0            2   \n",
       "1            6          3               0       0            2   \n",
       "2            7          1               0       0            3   \n",
       "3            8          1               0       0            4   \n",
       "4           10          3               1       0            1   \n",
       "5           11          5               1       0            2   \n",
       "6           12          3               0       0            2   \n",
       "7           13          2               1       0            1   \n",
       "8           14          1               0       1            2   \n",
       "9           15          3               0       0            2   \n",
       "\n",
       "   no_of_children  income_bracket  \n",
       "0               0               4  \n",
       "1               0               5  \n",
       "2               1               3  \n",
       "3               2               6  \n",
       "4               0               5  \n",
       "5               1               1  \n",
       "6               0               7  \n",
       "7               0               2  \n",
       "8               0               6  \n",
       "9               0               6  "
      ]
     },
     "execution_count": 41,
     "metadata": {},
     "output_type": "execute_result"
    }
   ],
   "source": [
    "df_customer_demo.head(10)"
   ]
  },
  {
   "cell_type": "markdown",
   "metadata": {},
   "source": [
    "### Dealing with Campaign Dataframe"
   ]
  },
  {
   "cell_type": "code",
   "execution_count": 42,
   "metadata": {},
   "outputs": [
    {
     "data": {
      "text/html": [
       "<div>\n",
       "<style scoped>\n",
       "    .dataframe tbody tr th:only-of-type {\n",
       "        vertical-align: middle;\n",
       "    }\n",
       "\n",
       "    .dataframe tbody tr th {\n",
       "        vertical-align: top;\n",
       "    }\n",
       "\n",
       "    .dataframe thead th {\n",
       "        text-align: right;\n",
       "    }\n",
       "</style>\n",
       "<table border=\"1\" class=\"dataframe\">\n",
       "  <thead>\n",
       "    <tr style=\"text-align: right;\">\n",
       "      <th></th>\n",
       "      <th>campaign_id</th>\n",
       "      <th>campaign_type</th>\n",
       "      <th>start_date</th>\n",
       "      <th>end_date</th>\n",
       "    </tr>\n",
       "  </thead>\n",
       "  <tbody>\n",
       "    <tr>\n",
       "      <th>0</th>\n",
       "      <td>24</td>\n",
       "      <td>Y</td>\n",
       "      <td>21/10/13</td>\n",
       "      <td>20/12/13</td>\n",
       "    </tr>\n",
       "    <tr>\n",
       "      <th>1</th>\n",
       "      <td>25</td>\n",
       "      <td>Y</td>\n",
       "      <td>21/10/13</td>\n",
       "      <td>22/11/13</td>\n",
       "    </tr>\n",
       "  </tbody>\n",
       "</table>\n",
       "</div>"
      ],
      "text/plain": [
       "   campaign_id campaign_type start_date  end_date\n",
       "0           24             Y   21/10/13  20/12/13\n",
       "1           25             Y   21/10/13  22/11/13"
      ]
     },
     "execution_count": 42,
     "metadata": {},
     "output_type": "execute_result"
    }
   ],
   "source": [
    "df_cam_data.head(2)"
   ]
  },
  {
   "cell_type": "code",
   "execution_count": 43,
   "metadata": {},
   "outputs": [
    {
     "name": "stdout",
     "output_type": "stream",
     "text": [
      "<class 'pandas.core.frame.DataFrame'>\n",
      "RangeIndex: 28 entries, 0 to 27\n",
      "Data columns (total 4 columns):\n",
      " #   Column         Non-Null Count  Dtype \n",
      "---  ------         --------------  ----- \n",
      " 0   campaign_id    28 non-null     int64 \n",
      " 1   campaign_type  28 non-null     object\n",
      " 2   start_date     28 non-null     object\n",
      " 3   end_date       28 non-null     object\n",
      "dtypes: int64(1), object(3)\n",
      "memory usage: 1.0+ KB\n"
     ]
    }
   ],
   "source": [
    "df_cam_data.info()"
   ]
  },
  {
   "cell_type": "code",
   "execution_count": 44,
   "metadata": {},
   "outputs": [
    {
     "data": {
      "text/plain": [
       "Y    22\n",
       "X     6\n",
       "Name: campaign_type, dtype: int64"
      ]
     },
     "execution_count": 44,
     "metadata": {},
     "output_type": "execute_result"
    }
   ],
   "source": [
    "df_cam_data.campaign_type.value_counts()"
   ]
  },
  {
   "cell_type": "code",
   "execution_count": 45,
   "metadata": {},
   "outputs": [],
   "source": [
    "#Label Encoding Campaign type\n",
    "df_cam_data[\"campaign_type\"] = encoder.fit_transform(df_cam_data.campaign_type)"
   ]
  },
  {
   "cell_type": "code",
   "execution_count": 46,
   "metadata": {},
   "outputs": [],
   "source": [
    "#Converting the date columns to date time\n",
    "df_cam_data['start_date'] = pd.to_datetime(df_cam_data['start_date'], format = '%d/%m/%y')\n",
    "df_cam_data['end_date'] = pd.to_datetime(df_cam_data['end_date'], format = '%d/%m/%y')"
   ]
  },
  {
   "cell_type": "code",
   "execution_count": 47,
   "metadata": {},
   "outputs": [],
   "source": [
    "#Creating a new column campaign_duration\n",
    "df_cam_data[\"campaign_duration\"] = df_cam_data[\"end_date\"] - df_cam_data[\"start_date\"]\n",
    "df_cam_data[\"campaign_duration\"] = df_cam_data[\"campaign_duration\"].apply(lambda x: x.days) "
   ]
  },
  {
   "cell_type": "code",
   "execution_count": 48,
   "metadata": {},
   "outputs": [
    {
     "data": {
      "text/html": [
       "<div>\n",
       "<style scoped>\n",
       "    .dataframe tbody tr th:only-of-type {\n",
       "        vertical-align: middle;\n",
       "    }\n",
       "\n",
       "    .dataframe tbody tr th {\n",
       "        vertical-align: top;\n",
       "    }\n",
       "\n",
       "    .dataframe thead th {\n",
       "        text-align: right;\n",
       "    }\n",
       "</style>\n",
       "<table border=\"1\" class=\"dataframe\">\n",
       "  <thead>\n",
       "    <tr style=\"text-align: right;\">\n",
       "      <th></th>\n",
       "      <th>campaign_id</th>\n",
       "      <th>campaign_type</th>\n",
       "      <th>start_date</th>\n",
       "      <th>end_date</th>\n",
       "      <th>campaign_duration</th>\n",
       "    </tr>\n",
       "  </thead>\n",
       "  <tbody>\n",
       "    <tr>\n",
       "      <th>0</th>\n",
       "      <td>24</td>\n",
       "      <td>1</td>\n",
       "      <td>2013-10-21</td>\n",
       "      <td>2013-12-20</td>\n",
       "      <td>60</td>\n",
       "    </tr>\n",
       "    <tr>\n",
       "      <th>1</th>\n",
       "      <td>25</td>\n",
       "      <td>1</td>\n",
       "      <td>2013-10-21</td>\n",
       "      <td>2013-11-22</td>\n",
       "      <td>32</td>\n",
       "    </tr>\n",
       "    <tr>\n",
       "      <th>2</th>\n",
       "      <td>20</td>\n",
       "      <td>1</td>\n",
       "      <td>2013-09-07</td>\n",
       "      <td>2013-11-16</td>\n",
       "      <td>70</td>\n",
       "    </tr>\n",
       "    <tr>\n",
       "      <th>3</th>\n",
       "      <td>23</td>\n",
       "      <td>1</td>\n",
       "      <td>2013-10-08</td>\n",
       "      <td>2013-11-15</td>\n",
       "      <td>38</td>\n",
       "    </tr>\n",
       "    <tr>\n",
       "      <th>4</th>\n",
       "      <td>21</td>\n",
       "      <td>1</td>\n",
       "      <td>2013-09-16</td>\n",
       "      <td>2013-10-18</td>\n",
       "      <td>32</td>\n",
       "    </tr>\n",
       "  </tbody>\n",
       "</table>\n",
       "</div>"
      ],
      "text/plain": [
       "   campaign_id  campaign_type start_date   end_date  campaign_duration\n",
       "0           24              1 2013-10-21 2013-12-20                 60\n",
       "1           25              1 2013-10-21 2013-11-22                 32\n",
       "2           20              1 2013-09-07 2013-11-16                 70\n",
       "3           23              1 2013-10-08 2013-11-15                 38\n",
       "4           21              1 2013-09-16 2013-10-18                 32"
      ]
     },
     "execution_count": 48,
     "metadata": {},
     "output_type": "execute_result"
    }
   ],
   "source": [
    "df_cam_data.head(5)"
   ]
  },
  {
   "cell_type": "markdown",
   "metadata": {},
   "source": [
    "### Dealing with Customer Transaction Dataframe"
   ]
  },
  {
   "cell_type": "code",
   "execution_count": 49,
   "metadata": {},
   "outputs": [
    {
     "data": {
      "text/html": [
       "<div>\n",
       "<style scoped>\n",
       "    .dataframe tbody tr th:only-of-type {\n",
       "        vertical-align: middle;\n",
       "    }\n",
       "\n",
       "    .dataframe tbody tr th {\n",
       "        vertical-align: top;\n",
       "    }\n",
       "\n",
       "    .dataframe thead th {\n",
       "        text-align: right;\n",
       "    }\n",
       "</style>\n",
       "<table border=\"1\" class=\"dataframe\">\n",
       "  <thead>\n",
       "    <tr style=\"text-align: right;\">\n",
       "      <th></th>\n",
       "      <th>date</th>\n",
       "      <th>customer_id</th>\n",
       "      <th>item_id</th>\n",
       "      <th>quantity</th>\n",
       "      <th>selling_price</th>\n",
       "      <th>other_discount</th>\n",
       "      <th>coupon_discount</th>\n",
       "    </tr>\n",
       "  </thead>\n",
       "  <tbody>\n",
       "    <tr>\n",
       "      <th>0</th>\n",
       "      <td>2012-01-02</td>\n",
       "      <td>1501</td>\n",
       "      <td>26830</td>\n",
       "      <td>1</td>\n",
       "      <td>35.26</td>\n",
       "      <td>-10.69</td>\n",
       "      <td>0.0</td>\n",
       "    </tr>\n",
       "    <tr>\n",
       "      <th>1</th>\n",
       "      <td>2012-01-02</td>\n",
       "      <td>1501</td>\n",
       "      <td>54253</td>\n",
       "      <td>1</td>\n",
       "      <td>53.43</td>\n",
       "      <td>-13.89</td>\n",
       "      <td>0.0</td>\n",
       "    </tr>\n",
       "  </tbody>\n",
       "</table>\n",
       "</div>"
      ],
      "text/plain": [
       "         date  customer_id  item_id  quantity  selling_price  other_discount  \\\n",
       "0  2012-01-02         1501    26830         1          35.26          -10.69   \n",
       "1  2012-01-02         1501    54253         1          53.43          -13.89   \n",
       "\n",
       "   coupon_discount  \n",
       "0              0.0  \n",
       "1              0.0  "
      ]
     },
     "execution_count": 49,
     "metadata": {},
     "output_type": "execute_result"
    }
   ],
   "source": [
    "df_customer_tran.head(2)"
   ]
  },
  {
   "cell_type": "code",
   "execution_count": 50,
   "metadata": {},
   "outputs": [
    {
     "name": "stdout",
     "output_type": "stream",
     "text": [
      "<class 'pandas.core.frame.DataFrame'>\n",
      "RangeIndex: 1324566 entries, 0 to 1324565\n",
      "Data columns (total 7 columns):\n",
      " #   Column           Non-Null Count    Dtype  \n",
      "---  ------           --------------    -----  \n",
      " 0   date             1324566 non-null  object \n",
      " 1   customer_id      1324566 non-null  int64  \n",
      " 2   item_id          1324566 non-null  int64  \n",
      " 3   quantity         1324566 non-null  int64  \n",
      " 4   selling_price    1324566 non-null  float64\n",
      " 5   other_discount   1324566 non-null  float64\n",
      " 6   coupon_discount  1324566 non-null  float64\n",
      "dtypes: float64(3), int64(3), object(1)\n",
      "memory usage: 70.7+ MB\n"
     ]
    }
   ],
   "source": [
    "df_customer_tran.info()"
   ]
  },
  {
   "cell_type": "code",
   "execution_count": 51,
   "metadata": {},
   "outputs": [],
   "source": [
    "#converting the date column into date time (this method can remove one or more levels.)\n",
    "df_customer_tran['date'] = pd.to_datetime(df_customer_tran['date'])\n",
    "df_customer_tran = df_customer_tran.sort_values('date').reset_index(drop=True)"
   ]
  },
  {
   "cell_type": "code",
   "execution_count": 52,
   "metadata": {},
   "outputs": [
    {
     "data": {
      "text/html": [
       "<div>\n",
       "<style scoped>\n",
       "    .dataframe tbody tr th:only-of-type {\n",
       "        vertical-align: middle;\n",
       "    }\n",
       "\n",
       "    .dataframe tbody tr th {\n",
       "        vertical-align: top;\n",
       "    }\n",
       "\n",
       "    .dataframe thead th {\n",
       "        text-align: right;\n",
       "    }\n",
       "</style>\n",
       "<table border=\"1\" class=\"dataframe\">\n",
       "  <thead>\n",
       "    <tr style=\"text-align: right;\">\n",
       "      <th></th>\n",
       "      <th>date</th>\n",
       "      <th>customer_id</th>\n",
       "      <th>item_id</th>\n",
       "      <th>quantity</th>\n",
       "      <th>selling_price</th>\n",
       "      <th>other_discount</th>\n",
       "      <th>coupon_discount</th>\n",
       "    </tr>\n",
       "  </thead>\n",
       "  <tbody>\n",
       "    <tr>\n",
       "      <th>0</th>\n",
       "      <td>2012-01-02</td>\n",
       "      <td>1501</td>\n",
       "      <td>26830</td>\n",
       "      <td>1</td>\n",
       "      <td>35.26</td>\n",
       "      <td>-10.69</td>\n",
       "      <td>0.00</td>\n",
       "    </tr>\n",
       "    <tr>\n",
       "      <th>1</th>\n",
       "      <td>2012-01-02</td>\n",
       "      <td>464</td>\n",
       "      <td>20697</td>\n",
       "      <td>1</td>\n",
       "      <td>92.26</td>\n",
       "      <td>-21.37</td>\n",
       "      <td>-35.62</td>\n",
       "    </tr>\n",
       "  </tbody>\n",
       "</table>\n",
       "</div>"
      ],
      "text/plain": [
       "        date  customer_id  item_id  quantity  selling_price  other_discount  \\\n",
       "0 2012-01-02         1501    26830         1          35.26          -10.69   \n",
       "1 2012-01-02          464    20697         1          92.26          -21.37   \n",
       "\n",
       "   coupon_discount  \n",
       "0             0.00  \n",
       "1           -35.62  "
      ]
     },
     "execution_count": 52,
     "metadata": {},
     "output_type": "execute_result"
    }
   ],
   "source": [
    "df_customer_tran.head(2)"
   ]
  },
  {
   "cell_type": "code",
   "execution_count": 53,
   "metadata": {},
   "outputs": [],
   "source": [
    "#Creating 3 new columns from the date column\n",
    "df_customer_tran['day'] = df_customer_tran['date'].apply(lambda x : x.day)\n",
    "df_customer_tran['weekday'] = df_customer_tran['date'].apply(lambda x : x.weekday())\n",
    "df_customer_tran['month'] = df_customer_tran['date'].apply(lambda x : x.month)"
   ]
  },
  {
   "cell_type": "code",
   "execution_count": 54,
   "metadata": {},
   "outputs": [
    {
     "data": {
      "text/html": [
       "<div>\n",
       "<style scoped>\n",
       "    .dataframe tbody tr th:only-of-type {\n",
       "        vertical-align: middle;\n",
       "    }\n",
       "\n",
       "    .dataframe tbody tr th {\n",
       "        vertical-align: top;\n",
       "    }\n",
       "\n",
       "    .dataframe thead th {\n",
       "        text-align: right;\n",
       "    }\n",
       "</style>\n",
       "<table border=\"1\" class=\"dataframe\">\n",
       "  <thead>\n",
       "    <tr style=\"text-align: right;\">\n",
       "      <th></th>\n",
       "      <th>date</th>\n",
       "      <th>customer_id</th>\n",
       "      <th>item_id</th>\n",
       "      <th>quantity</th>\n",
       "      <th>selling_price</th>\n",
       "      <th>other_discount</th>\n",
       "      <th>coupon_discount</th>\n",
       "      <th>day</th>\n",
       "      <th>weekday</th>\n",
       "      <th>month</th>\n",
       "    </tr>\n",
       "  </thead>\n",
       "  <tbody>\n",
       "    <tr>\n",
       "      <th>0</th>\n",
       "      <td>2012-01-02</td>\n",
       "      <td>1501</td>\n",
       "      <td>26830</td>\n",
       "      <td>1</td>\n",
       "      <td>35.26</td>\n",
       "      <td>-10.69</td>\n",
       "      <td>0.00</td>\n",
       "      <td>2</td>\n",
       "      <td>0</td>\n",
       "      <td>1</td>\n",
       "    </tr>\n",
       "    <tr>\n",
       "      <th>1</th>\n",
       "      <td>2012-01-02</td>\n",
       "      <td>464</td>\n",
       "      <td>20697</td>\n",
       "      <td>1</td>\n",
       "      <td>92.26</td>\n",
       "      <td>-21.37</td>\n",
       "      <td>-35.62</td>\n",
       "      <td>2</td>\n",
       "      <td>0</td>\n",
       "      <td>1</td>\n",
       "    </tr>\n",
       "    <tr>\n",
       "      <th>2</th>\n",
       "      <td>2012-01-02</td>\n",
       "      <td>464</td>\n",
       "      <td>20717</td>\n",
       "      <td>2</td>\n",
       "      <td>28.50</td>\n",
       "      <td>-27.78</td>\n",
       "      <td>0.00</td>\n",
       "      <td>2</td>\n",
       "      <td>0</td>\n",
       "      <td>1</td>\n",
       "    </tr>\n",
       "    <tr>\n",
       "      <th>3</th>\n",
       "      <td>2012-01-02</td>\n",
       "      <td>464</td>\n",
       "      <td>21008</td>\n",
       "      <td>1</td>\n",
       "      <td>35.26</td>\n",
       "      <td>-17.81</td>\n",
       "      <td>0.00</td>\n",
       "      <td>2</td>\n",
       "      <td>0</td>\n",
       "      <td>1</td>\n",
       "    </tr>\n",
       "    <tr>\n",
       "      <th>4</th>\n",
       "      <td>2012-01-02</td>\n",
       "      <td>464</td>\n",
       "      <td>22243</td>\n",
       "      <td>2</td>\n",
       "      <td>118.97</td>\n",
       "      <td>-22.80</td>\n",
       "      <td>0.00</td>\n",
       "      <td>2</td>\n",
       "      <td>0</td>\n",
       "      <td>1</td>\n",
       "    </tr>\n",
       "  </tbody>\n",
       "</table>\n",
       "</div>"
      ],
      "text/plain": [
       "        date  customer_id  item_id  quantity  selling_price  other_discount  \\\n",
       "0 2012-01-02         1501    26830         1          35.26          -10.69   \n",
       "1 2012-01-02          464    20697         1          92.26          -21.37   \n",
       "2 2012-01-02          464    20717         2          28.50          -27.78   \n",
       "3 2012-01-02          464    21008         1          35.26          -17.81   \n",
       "4 2012-01-02          464    22243         2         118.97          -22.80   \n",
       "\n",
       "   coupon_discount  day  weekday  month  \n",
       "0             0.00    2        0      1  \n",
       "1           -35.62    2        0      1  \n",
       "2             0.00    2        0      1  \n",
       "3             0.00    2        0      1  \n",
       "4             0.00    2        0      1  "
      ]
     },
     "execution_count": 54,
     "metadata": {},
     "output_type": "execute_result"
    }
   ],
   "source": [
    "df_customer_tran.head(5)"
   ]
  },
  {
   "cell_type": "code",
   "execution_count": 55,
   "metadata": {},
   "outputs": [],
   "source": [
    "# Given selling_price and other_discount are for the entire transaction. Hence getting the Actual value of the transaction.\n",
    "df_customer_tran.selling_price = df_customer_tran.selling_price/df_customer_tran.quantity\n",
    "df_customer_tran.other_discount = df_customer_tran.other_discount/df_customer_tran.quantity\n",
    "df_customer_tran.selling_price = df_customer_tran.selling_price - df_customer_tran.other_discount"
   ]
  },
  {
   "cell_type": "code",
   "execution_count": 56,
   "metadata": {},
   "outputs": [],
   "source": [
    "#Inserting a new column to know if the coupon was used or not\n",
    "df_customer_tran['coupon_used'] = df_customer_tran.coupon_discount.apply(lambda x: 1 if x !=0 else 0)"
   ]
  },
  {
   "cell_type": "code",
   "execution_count": 57,
   "metadata": {},
   "outputs": [
    {
     "data": {
      "text/html": [
       "<div>\n",
       "<style scoped>\n",
       "    .dataframe tbody tr th:only-of-type {\n",
       "        vertical-align: middle;\n",
       "    }\n",
       "\n",
       "    .dataframe tbody tr th {\n",
       "        vertical-align: top;\n",
       "    }\n",
       "\n",
       "    .dataframe thead th {\n",
       "        text-align: right;\n",
       "    }\n",
       "</style>\n",
       "<table border=\"1\" class=\"dataframe\">\n",
       "  <thead>\n",
       "    <tr style=\"text-align: right;\">\n",
       "      <th></th>\n",
       "      <th>date</th>\n",
       "      <th>customer_id</th>\n",
       "      <th>item_id</th>\n",
       "      <th>quantity</th>\n",
       "      <th>selling_price</th>\n",
       "      <th>other_discount</th>\n",
       "      <th>coupon_discount</th>\n",
       "      <th>day</th>\n",
       "      <th>weekday</th>\n",
       "      <th>month</th>\n",
       "      <th>coupon_used</th>\n",
       "    </tr>\n",
       "  </thead>\n",
       "  <tbody>\n",
       "    <tr>\n",
       "      <th>0</th>\n",
       "      <td>2012-01-02</td>\n",
       "      <td>1501</td>\n",
       "      <td>26830</td>\n",
       "      <td>1</td>\n",
       "      <td>45.950</td>\n",
       "      <td>-10.69</td>\n",
       "      <td>0.00</td>\n",
       "      <td>2</td>\n",
       "      <td>0</td>\n",
       "      <td>1</td>\n",
       "      <td>0</td>\n",
       "    </tr>\n",
       "    <tr>\n",
       "      <th>1</th>\n",
       "      <td>2012-01-02</td>\n",
       "      <td>464</td>\n",
       "      <td>20697</td>\n",
       "      <td>1</td>\n",
       "      <td>113.630</td>\n",
       "      <td>-21.37</td>\n",
       "      <td>-35.62</td>\n",
       "      <td>2</td>\n",
       "      <td>0</td>\n",
       "      <td>1</td>\n",
       "      <td>1</td>\n",
       "    </tr>\n",
       "    <tr>\n",
       "      <th>2</th>\n",
       "      <td>2012-01-02</td>\n",
       "      <td>464</td>\n",
       "      <td>20717</td>\n",
       "      <td>2</td>\n",
       "      <td>28.140</td>\n",
       "      <td>-13.89</td>\n",
       "      <td>0.00</td>\n",
       "      <td>2</td>\n",
       "      <td>0</td>\n",
       "      <td>1</td>\n",
       "      <td>0</td>\n",
       "    </tr>\n",
       "    <tr>\n",
       "      <th>3</th>\n",
       "      <td>2012-01-02</td>\n",
       "      <td>464</td>\n",
       "      <td>21008</td>\n",
       "      <td>1</td>\n",
       "      <td>53.070</td>\n",
       "      <td>-17.81</td>\n",
       "      <td>0.00</td>\n",
       "      <td>2</td>\n",
       "      <td>0</td>\n",
       "      <td>1</td>\n",
       "      <td>0</td>\n",
       "    </tr>\n",
       "    <tr>\n",
       "      <th>4</th>\n",
       "      <td>2012-01-02</td>\n",
       "      <td>464</td>\n",
       "      <td>22243</td>\n",
       "      <td>2</td>\n",
       "      <td>70.885</td>\n",
       "      <td>-11.40</td>\n",
       "      <td>0.00</td>\n",
       "      <td>2</td>\n",
       "      <td>0</td>\n",
       "      <td>1</td>\n",
       "      <td>0</td>\n",
       "    </tr>\n",
       "  </tbody>\n",
       "</table>\n",
       "</div>"
      ],
      "text/plain": [
       "        date  customer_id  item_id  quantity  selling_price  other_discount  \\\n",
       "0 2012-01-02         1501    26830         1         45.950          -10.69   \n",
       "1 2012-01-02          464    20697         1        113.630          -21.37   \n",
       "2 2012-01-02          464    20717         2         28.140          -13.89   \n",
       "3 2012-01-02          464    21008         1         53.070          -17.81   \n",
       "4 2012-01-02          464    22243         2         70.885          -11.40   \n",
       "\n",
       "   coupon_discount  day  weekday  month  coupon_used  \n",
       "0             0.00    2        0      1            0  \n",
       "1           -35.62    2        0      1            1  \n",
       "2             0.00    2        0      1            0  \n",
       "3             0.00    2        0      1            0  \n",
       "4             0.00    2        0      1            0  "
      ]
     },
     "execution_count": 57,
     "metadata": {},
     "output_type": "execute_result"
    }
   ],
   "source": [
    "df_customer_tran.head()"
   ]
  },
  {
   "cell_type": "markdown",
   "metadata": {},
   "source": [
    "### Dealing with Items Dataframe"
   ]
  },
  {
   "cell_type": "code",
   "execution_count": 58,
   "metadata": {},
   "outputs": [
    {
     "data": {
      "text/html": [
       "<div>\n",
       "<style scoped>\n",
       "    .dataframe tbody tr th:only-of-type {\n",
       "        vertical-align: middle;\n",
       "    }\n",
       "\n",
       "    .dataframe tbody tr th {\n",
       "        vertical-align: top;\n",
       "    }\n",
       "\n",
       "    .dataframe thead th {\n",
       "        text-align: right;\n",
       "    }\n",
       "</style>\n",
       "<table border=\"1\" class=\"dataframe\">\n",
       "  <thead>\n",
       "    <tr style=\"text-align: right;\">\n",
       "      <th></th>\n",
       "      <th>item_id</th>\n",
       "      <th>brand</th>\n",
       "      <th>brand_type</th>\n",
       "      <th>category</th>\n",
       "    </tr>\n",
       "  </thead>\n",
       "  <tbody>\n",
       "    <tr>\n",
       "      <th>0</th>\n",
       "      <td>1</td>\n",
       "      <td>1</td>\n",
       "      <td>Established</td>\n",
       "      <td>Grocery</td>\n",
       "    </tr>\n",
       "    <tr>\n",
       "      <th>1</th>\n",
       "      <td>2</td>\n",
       "      <td>1</td>\n",
       "      <td>Established</td>\n",
       "      <td>Miscellaneous</td>\n",
       "    </tr>\n",
       "  </tbody>\n",
       "</table>\n",
       "</div>"
      ],
      "text/plain": [
       "   item_id  brand   brand_type       category\n",
       "0        1      1  Established        Grocery\n",
       "1        2      1  Established  Miscellaneous"
      ]
     },
     "execution_count": 58,
     "metadata": {},
     "output_type": "execute_result"
    }
   ],
   "source": [
    "df_item.head(2)"
   ]
  },
  {
   "cell_type": "code",
   "execution_count": 59,
   "metadata": {},
   "outputs": [
    {
     "name": "stdout",
     "output_type": "stream",
     "text": [
      "<class 'pandas.core.frame.DataFrame'>\n",
      "RangeIndex: 74066 entries, 0 to 74065\n",
      "Data columns (total 4 columns):\n",
      " #   Column      Non-Null Count  Dtype \n",
      "---  ------      --------------  ----- \n",
      " 0   item_id     74066 non-null  int64 \n",
      " 1   brand       74066 non-null  int64 \n",
      " 2   brand_type  74066 non-null  object\n",
      " 3   category    74066 non-null  object\n",
      "dtypes: int64(2), object(2)\n",
      "memory usage: 2.3+ MB\n"
     ]
    }
   ],
   "source": [
    "df_item.info()"
   ]
  },
  {
   "cell_type": "code",
   "execution_count": 60,
   "metadata": {},
   "outputs": [
    {
     "data": {
      "text/plain": [
       "Established    62842\n",
       "Local          11224\n",
       "Name: brand_type, dtype: int64"
      ]
     },
     "execution_count": 60,
     "metadata": {},
     "output_type": "execute_result"
    }
   ],
   "source": [
    "df_item.brand_type.value_counts()"
   ]
  },
  {
   "cell_type": "code",
   "execution_count": 61,
   "metadata": {},
   "outputs": [
    {
     "data": {
      "text/plain": [
       "Grocery                   32448\n",
       "Pharmaceutical            24471\n",
       "Natural Products           2533\n",
       "Dairy, Juices & Snacks     2425\n",
       "Skin & Hair Care           2244\n",
       "Meat                       2080\n",
       "Packaged Meat              1966\n",
       "Prepared Food              1880\n",
       "Bakery                     1679\n",
       "Seafood                     728\n",
       "Flowers & Plants            664\n",
       "Miscellaneous               385\n",
       "Alcohol                     303\n",
       "Garden                      102\n",
       "Restauarant                  78\n",
       "Salads                       40\n",
       "Travel                       19\n",
       "Fuel                         14\n",
       "Vegetables (cut)              7\n",
       "Name: category, dtype: int64"
      ]
     },
     "execution_count": 61,
     "metadata": {},
     "output_type": "execute_result"
    }
   ],
   "source": [
    "df_item.category.value_counts()"
   ]
  },
  {
   "cell_type": "code",
   "execution_count": 62,
   "metadata": {},
   "outputs": [],
   "source": [
    "#Label Encoding the brand_type and category columns\n",
    "df_item.brand_type = encoder.fit_transform(df_item[\"brand_type\"])\n",
    "df_item.category = encoder.fit_transform(df_item[\"category\"])"
   ]
  },
  {
   "cell_type": "code",
   "execution_count": 63,
   "metadata": {},
   "outputs": [
    {
     "name": "stdout",
     "output_type": "stream",
     "text": [
      "<class 'pandas.core.frame.DataFrame'>\n",
      "RangeIndex: 74066 entries, 0 to 74065\n",
      "Data columns (total 4 columns):\n",
      " #   Column      Non-Null Count  Dtype\n",
      "---  ------      --------------  -----\n",
      " 0   item_id     74066 non-null  int64\n",
      " 1   brand       74066 non-null  int64\n",
      " 2   brand_type  74066 non-null  int32\n",
      " 3   category    74066 non-null  int32\n",
      "dtypes: int32(2), int64(2)\n",
      "memory usage: 1.7 MB\n"
     ]
    }
   ],
   "source": [
    "df_item.info()"
   ]
  },
  {
   "cell_type": "code",
   "execution_count": 64,
   "metadata": {},
   "outputs": [
    {
     "data": {
      "text/html": [
       "<div>\n",
       "<style scoped>\n",
       "    .dataframe tbody tr th:only-of-type {\n",
       "        vertical-align: middle;\n",
       "    }\n",
       "\n",
       "    .dataframe tbody tr th {\n",
       "        vertical-align: top;\n",
       "    }\n",
       "\n",
       "    .dataframe thead th {\n",
       "        text-align: right;\n",
       "    }\n",
       "</style>\n",
       "<table border=\"1\" class=\"dataframe\">\n",
       "  <thead>\n",
       "    <tr style=\"text-align: right;\">\n",
       "      <th></th>\n",
       "      <th>item_id</th>\n",
       "      <th>brand</th>\n",
       "      <th>brand_type</th>\n",
       "      <th>category</th>\n",
       "    </tr>\n",
       "  </thead>\n",
       "  <tbody>\n",
       "    <tr>\n",
       "      <th>0</th>\n",
       "      <td>1</td>\n",
       "      <td>1</td>\n",
       "      <td>0</td>\n",
       "      <td>6</td>\n",
       "    </tr>\n",
       "    <tr>\n",
       "      <th>1</th>\n",
       "      <td>2</td>\n",
       "      <td>1</td>\n",
       "      <td>0</td>\n",
       "      <td>8</td>\n",
       "    </tr>\n",
       "    <tr>\n",
       "      <th>2</th>\n",
       "      <td>3</td>\n",
       "      <td>56</td>\n",
       "      <td>1</td>\n",
       "      <td>1</td>\n",
       "    </tr>\n",
       "    <tr>\n",
       "      <th>3</th>\n",
       "      <td>4</td>\n",
       "      <td>56</td>\n",
       "      <td>1</td>\n",
       "      <td>6</td>\n",
       "    </tr>\n",
       "    <tr>\n",
       "      <th>4</th>\n",
       "      <td>5</td>\n",
       "      <td>56</td>\n",
       "      <td>1</td>\n",
       "      <td>6</td>\n",
       "    </tr>\n",
       "  </tbody>\n",
       "</table>\n",
       "</div>"
      ],
      "text/plain": [
       "   item_id  brand  brand_type  category\n",
       "0        1      1           0         6\n",
       "1        2      1           0         8\n",
       "2        3     56           1         1\n",
       "3        4     56           1         6\n",
       "4        5     56           1         6"
      ]
     },
     "execution_count": 64,
     "metadata": {},
     "output_type": "execute_result"
    }
   ],
   "source": [
    "df_item.head(5)"
   ]
  },
  {
   "cell_type": "markdown",
   "metadata": {},
   "source": [
    "### Dealing with Coupon Dataframe"
   ]
  },
  {
   "cell_type": "code",
   "execution_count": 65,
   "metadata": {},
   "outputs": [
    {
     "data": {
      "text/html": [
       "<div>\n",
       "<style scoped>\n",
       "    .dataframe tbody tr th:only-of-type {\n",
       "        vertical-align: middle;\n",
       "    }\n",
       "\n",
       "    .dataframe tbody tr th {\n",
       "        vertical-align: top;\n",
       "    }\n",
       "\n",
       "    .dataframe thead th {\n",
       "        text-align: right;\n",
       "    }\n",
       "</style>\n",
       "<table border=\"1\" class=\"dataframe\">\n",
       "  <thead>\n",
       "    <tr style=\"text-align: right;\">\n",
       "      <th></th>\n",
       "      <th>coupon_id</th>\n",
       "      <th>item_id</th>\n",
       "    </tr>\n",
       "  </thead>\n",
       "  <tbody>\n",
       "    <tr>\n",
       "      <th>0</th>\n",
       "      <td>105</td>\n",
       "      <td>37</td>\n",
       "    </tr>\n",
       "    <tr>\n",
       "      <th>1</th>\n",
       "      <td>107</td>\n",
       "      <td>75</td>\n",
       "    </tr>\n",
       "  </tbody>\n",
       "</table>\n",
       "</div>"
      ],
      "text/plain": [
       "   coupon_id  item_id\n",
       "0        105       37\n",
       "1        107       75"
      ]
     },
     "execution_count": 65,
     "metadata": {},
     "output_type": "execute_result"
    }
   ],
   "source": [
    "df_coup_item.head(2)"
   ]
  },
  {
   "cell_type": "markdown",
   "metadata": {},
   "source": [
    "## Data merging and wrangling.\n",
    "- Data wrangling involves processing the data in various formats like - merging, grouping, concatenating etc. for the purpose of analysing or getting them ready to be used with another set of data. Python has built-in features to apply these wrangling methods to various data sets to achieve the analytical goal.(reference : google)\n",
    "\n"
   ]
  },
  {
   "cell_type": "markdown",
   "metadata": {},
   "source": [
    "**1. Merge coupon item data and items data on item_id**"
   ]
  },
  {
   "cell_type": "code",
   "execution_count": 66,
   "metadata": {},
   "outputs": [],
   "source": [
    "df_coup_item = pd.merge(df_coup_item, df_item, on=\"item_id\", how=\"left\")"
   ]
  },
  {
   "cell_type": "code",
   "execution_count": 67,
   "metadata": {},
   "outputs": [
    {
     "data": {
      "text/html": [
       "<div>\n",
       "<style scoped>\n",
       "    .dataframe tbody tr th:only-of-type {\n",
       "        vertical-align: middle;\n",
       "    }\n",
       "\n",
       "    .dataframe tbody tr th {\n",
       "        vertical-align: top;\n",
       "    }\n",
       "\n",
       "    .dataframe thead th {\n",
       "        text-align: right;\n",
       "    }\n",
       "</style>\n",
       "<table border=\"1\" class=\"dataframe\">\n",
       "  <thead>\n",
       "    <tr style=\"text-align: right;\">\n",
       "      <th></th>\n",
       "      <th>coupon_id</th>\n",
       "      <th>item_id</th>\n",
       "      <th>brand</th>\n",
       "      <th>brand_type</th>\n",
       "      <th>category</th>\n",
       "    </tr>\n",
       "  </thead>\n",
       "  <tbody>\n",
       "    <tr>\n",
       "      <th>0</th>\n",
       "      <td>105</td>\n",
       "      <td>37</td>\n",
       "      <td>56</td>\n",
       "      <td>1</td>\n",
       "      <td>6</td>\n",
       "    </tr>\n",
       "    <tr>\n",
       "      <th>1</th>\n",
       "      <td>107</td>\n",
       "      <td>75</td>\n",
       "      <td>56</td>\n",
       "      <td>1</td>\n",
       "      <td>6</td>\n",
       "    </tr>\n",
       "    <tr>\n",
       "      <th>2</th>\n",
       "      <td>494</td>\n",
       "      <td>76</td>\n",
       "      <td>209</td>\n",
       "      <td>0</td>\n",
       "      <td>6</td>\n",
       "    </tr>\n",
       "    <tr>\n",
       "      <th>3</th>\n",
       "      <td>522</td>\n",
       "      <td>77</td>\n",
       "      <td>278</td>\n",
       "      <td>0</td>\n",
       "      <td>6</td>\n",
       "    </tr>\n",
       "    <tr>\n",
       "      <th>4</th>\n",
       "      <td>518</td>\n",
       "      <td>77</td>\n",
       "      <td>278</td>\n",
       "      <td>0</td>\n",
       "      <td>6</td>\n",
       "    </tr>\n",
       "  </tbody>\n",
       "</table>\n",
       "</div>"
      ],
      "text/plain": [
       "   coupon_id  item_id  brand  brand_type  category\n",
       "0        105       37     56           1         6\n",
       "1        107       75     56           1         6\n",
       "2        494       76    209           0         6\n",
       "3        522       77    278           0         6\n",
       "4        518       77    278           0         6"
      ]
     },
     "execution_count": 67,
     "metadata": {},
     "output_type": "execute_result"
    }
   ],
   "source": [
    "df_coup_item.head(5)"
   ]
  },
  {
   "cell_type": "markdown",
   "metadata": {},
   "source": [
    "**2. Aggregate transactions by item_id**"
   ]
  },
  {
   "cell_type": "code",
   "execution_count": 68,
   "metadata": {},
   "outputs": [
    {
     "data": {
      "text/html": [
       "<div>\n",
       "<style scoped>\n",
       "    .dataframe tbody tr th:only-of-type {\n",
       "        vertical-align: middle;\n",
       "    }\n",
       "\n",
       "    .dataframe tbody tr th {\n",
       "        vertical-align: top;\n",
       "    }\n",
       "\n",
       "    .dataframe thead th {\n",
       "        text-align: right;\n",
       "    }\n",
       "</style>\n",
       "<table border=\"1\" class=\"dataframe\">\n",
       "  <thead>\n",
       "    <tr style=\"text-align: right;\">\n",
       "      <th></th>\n",
       "      <th>date</th>\n",
       "      <th>customer_id</th>\n",
       "      <th>item_id</th>\n",
       "      <th>quantity</th>\n",
       "      <th>selling_price</th>\n",
       "      <th>other_discount</th>\n",
       "      <th>coupon_discount</th>\n",
       "      <th>day</th>\n",
       "      <th>weekday</th>\n",
       "      <th>month</th>\n",
       "      <th>coupon_used</th>\n",
       "    </tr>\n",
       "  </thead>\n",
       "  <tbody>\n",
       "    <tr>\n",
       "      <th>0</th>\n",
       "      <td>2012-01-02</td>\n",
       "      <td>1501</td>\n",
       "      <td>26830</td>\n",
       "      <td>1</td>\n",
       "      <td>45.95</td>\n",
       "      <td>-10.69</td>\n",
       "      <td>0.00</td>\n",
       "      <td>2</td>\n",
       "      <td>0</td>\n",
       "      <td>1</td>\n",
       "      <td>0</td>\n",
       "    </tr>\n",
       "    <tr>\n",
       "      <th>1</th>\n",
       "      <td>2012-01-02</td>\n",
       "      <td>464</td>\n",
       "      <td>20697</td>\n",
       "      <td>1</td>\n",
       "      <td>113.63</td>\n",
       "      <td>-21.37</td>\n",
       "      <td>-35.62</td>\n",
       "      <td>2</td>\n",
       "      <td>0</td>\n",
       "      <td>1</td>\n",
       "      <td>1</td>\n",
       "    </tr>\n",
       "  </tbody>\n",
       "</table>\n",
       "</div>"
      ],
      "text/plain": [
       "        date  customer_id  item_id  quantity  selling_price  other_discount  \\\n",
       "0 2012-01-02         1501    26830         1          45.95          -10.69   \n",
       "1 2012-01-02          464    20697         1         113.63          -21.37   \n",
       "\n",
       "   coupon_discount  day  weekday  month  coupon_used  \n",
       "0             0.00    2        0      1            0  \n",
       "1           -35.62    2        0      1            1  "
      ]
     },
     "execution_count": 68,
     "metadata": {},
     "output_type": "execute_result"
    }
   ],
   "source": [
    "df_customer_tran.head(2)"
   ]
  },
  {
   "cell_type": "markdown",
   "metadata": {},
   "source": [
    "**pivot_table even allows you to deal with the missing values through the parameters dropna and fill_value:**\n",
    "\n",
    "- dropna allows you to drop the null values in the grouped table whose all values are null\n",
    "- fill_value parameter can be used to replace the NaN values in the grouped table with the values that you provide here"
   ]
  },
  {
   "cell_type": "code",
   "execution_count": 69,
   "metadata": {},
   "outputs": [],
   "source": [
    "# Aggregate transactions by item_id by mean for a particular customer\n",
    "transactions1 = pd.pivot_table(df_customer_tran, index = \"item_id\", \n",
    "               values=['customer_id','quantity','selling_price', 'other_discount','coupon_discount','coupon_used'],\n",
    "               aggfunc={'customer_id':lambda x: len(set(x)),\n",
    "                        'quantity':np.mean,\n",
    "                        'selling_price':np.mean,\n",
    "                        'other_discount':np.mean,\n",
    "                        'coupon_discount':np.mean,\n",
    "                        'coupon_used': np.sum\n",
    "                        } )\n",
    "transactions1.reset_index(inplace=True)\n",
    "transactions1.rename(columns={'customer_id': 'no_of_customers'}, inplace=True)"
   ]
  },
  {
   "cell_type": "code",
   "execution_count": 70,
   "metadata": {},
   "outputs": [
    {
     "data": {
      "text/html": [
       "<div>\n",
       "<style scoped>\n",
       "    .dataframe tbody tr th:only-of-type {\n",
       "        vertical-align: middle;\n",
       "    }\n",
       "\n",
       "    .dataframe tbody tr th {\n",
       "        vertical-align: top;\n",
       "    }\n",
       "\n",
       "    .dataframe thead th {\n",
       "        text-align: right;\n",
       "    }\n",
       "</style>\n",
       "<table border=\"1\" class=\"dataframe\">\n",
       "  <thead>\n",
       "    <tr style=\"text-align: right;\">\n",
       "      <th></th>\n",
       "      <th>item_id</th>\n",
       "      <th>coupon_discount</th>\n",
       "      <th>coupon_used</th>\n",
       "      <th>no_of_customers</th>\n",
       "      <th>other_discount</th>\n",
       "      <th>quantity</th>\n",
       "      <th>selling_price</th>\n",
       "    </tr>\n",
       "  </thead>\n",
       "  <tbody>\n",
       "    <tr>\n",
       "      <th>0</th>\n",
       "      <td>1</td>\n",
       "      <td>0.0</td>\n",
       "      <td>0</td>\n",
       "      <td>2</td>\n",
       "      <td>0.0</td>\n",
       "      <td>1.0</td>\n",
       "      <td>124.31</td>\n",
       "    </tr>\n",
       "    <tr>\n",
       "      <th>1</th>\n",
       "      <td>2</td>\n",
       "      <td>0.0</td>\n",
       "      <td>0</td>\n",
       "      <td>1</td>\n",
       "      <td>0.0</td>\n",
       "      <td>1.0</td>\n",
       "      <td>35.26</td>\n",
       "    </tr>\n",
       "    <tr>\n",
       "      <th>2</th>\n",
       "      <td>3</td>\n",
       "      <td>0.0</td>\n",
       "      <td>0</td>\n",
       "      <td>1</td>\n",
       "      <td>0.0</td>\n",
       "      <td>1.0</td>\n",
       "      <td>56.64</td>\n",
       "    </tr>\n",
       "    <tr>\n",
       "      <th>3</th>\n",
       "      <td>4</td>\n",
       "      <td>0.0</td>\n",
       "      <td>0</td>\n",
       "      <td>1</td>\n",
       "      <td>0.0</td>\n",
       "      <td>1.0</td>\n",
       "      <td>54.85</td>\n",
       "    </tr>\n",
       "    <tr>\n",
       "      <th>4</th>\n",
       "      <td>5</td>\n",
       "      <td>0.0</td>\n",
       "      <td>0</td>\n",
       "      <td>1</td>\n",
       "      <td>0.0</td>\n",
       "      <td>1.0</td>\n",
       "      <td>81.57</td>\n",
       "    </tr>\n",
       "  </tbody>\n",
       "</table>\n",
       "</div>"
      ],
      "text/plain": [
       "   item_id  coupon_discount  coupon_used  no_of_customers  other_discount  \\\n",
       "0        1              0.0            0                2             0.0   \n",
       "1        2              0.0            0                1             0.0   \n",
       "2        3              0.0            0                1             0.0   \n",
       "3        4              0.0            0                1             0.0   \n",
       "4        5              0.0            0                1             0.0   \n",
       "\n",
       "   quantity  selling_price  \n",
       "0       1.0         124.31  \n",
       "1       1.0          35.26  \n",
       "2       1.0          56.64  \n",
       "3       1.0          54.85  \n",
       "4       1.0          81.57  "
      ]
     },
     "execution_count": 70,
     "metadata": {},
     "output_type": "execute_result"
    }
   ],
   "source": [
    "transactions1.head(5)"
   ]
  },
  {
   "cell_type": "code",
   "execution_count": 71,
   "metadata": {},
   "outputs": [],
   "source": [
    "# Aggregate transactions by item_id by sum for a particular customer\n",
    "transactions2 = pd.pivot_table(df_customer_tran, index = \"item_id\", \n",
    "               values=['customer_id','quantity','selling_price', 'other_discount','coupon_discount'],\n",
    "               aggfunc={'customer_id':len,\n",
    "                        'quantity':np.sum,\n",
    "                        'selling_price':np.sum,\n",
    "                        'other_discount':np.sum,\n",
    "                        'coupon_discount':np.sum,\n",
    "                        } )\n",
    "transactions2.reset_index(inplace=True)\n",
    "transactions2.rename(columns={'customer_id': 'total_counts', 'quantity':'quantity_sum',\n",
    "                             'selling_price':'price_sum', 'other_discount':'other_sum',\n",
    "                             'coupon_discount':'coup_sum'}, inplace=True)"
   ]
  },
  {
   "cell_type": "code",
   "execution_count": 72,
   "metadata": {},
   "outputs": [
    {
     "data": {
      "text/html": [
       "<div>\n",
       "<style scoped>\n",
       "    .dataframe tbody tr th:only-of-type {\n",
       "        vertical-align: middle;\n",
       "    }\n",
       "\n",
       "    .dataframe tbody tr th {\n",
       "        vertical-align: top;\n",
       "    }\n",
       "\n",
       "    .dataframe thead th {\n",
       "        text-align: right;\n",
       "    }\n",
       "</style>\n",
       "<table border=\"1\" class=\"dataframe\">\n",
       "  <thead>\n",
       "    <tr style=\"text-align: right;\">\n",
       "      <th></th>\n",
       "      <th>item_id</th>\n",
       "      <th>coup_sum</th>\n",
       "      <th>total_counts</th>\n",
       "      <th>other_sum</th>\n",
       "      <th>quantity_sum</th>\n",
       "      <th>price_sum</th>\n",
       "    </tr>\n",
       "  </thead>\n",
       "  <tbody>\n",
       "    <tr>\n",
       "      <th>0</th>\n",
       "      <td>1</td>\n",
       "      <td>0.0</td>\n",
       "      <td>2</td>\n",
       "      <td>0.0</td>\n",
       "      <td>2</td>\n",
       "      <td>248.62</td>\n",
       "    </tr>\n",
       "    <tr>\n",
       "      <th>1</th>\n",
       "      <td>2</td>\n",
       "      <td>0.0</td>\n",
       "      <td>1</td>\n",
       "      <td>0.0</td>\n",
       "      <td>1</td>\n",
       "      <td>35.26</td>\n",
       "    </tr>\n",
       "    <tr>\n",
       "      <th>2</th>\n",
       "      <td>3</td>\n",
       "      <td>0.0</td>\n",
       "      <td>1</td>\n",
       "      <td>0.0</td>\n",
       "      <td>1</td>\n",
       "      <td>56.64</td>\n",
       "    </tr>\n",
       "    <tr>\n",
       "      <th>3</th>\n",
       "      <td>4</td>\n",
       "      <td>0.0</td>\n",
       "      <td>1</td>\n",
       "      <td>0.0</td>\n",
       "      <td>1</td>\n",
       "      <td>54.85</td>\n",
       "    </tr>\n",
       "    <tr>\n",
       "      <th>4</th>\n",
       "      <td>5</td>\n",
       "      <td>0.0</td>\n",
       "      <td>1</td>\n",
       "      <td>0.0</td>\n",
       "      <td>1</td>\n",
       "      <td>81.57</td>\n",
       "    </tr>\n",
       "  </tbody>\n",
       "</table>\n",
       "</div>"
      ],
      "text/plain": [
       "   item_id  coup_sum  total_counts  other_sum  quantity_sum  price_sum\n",
       "0        1       0.0             2        0.0             2     248.62\n",
       "1        2       0.0             1        0.0             1      35.26\n",
       "2        3       0.0             1        0.0             1      56.64\n",
       "3        4       0.0             1        0.0             1      54.85\n",
       "4        5       0.0             1        0.0             1      81.57"
      ]
     },
     "execution_count": 72,
     "metadata": {},
     "output_type": "execute_result"
    }
   ],
   "source": [
    "transactions2.head(5)"
   ]
  },
  {
   "cell_type": "code",
   "execution_count": 73,
   "metadata": {},
   "outputs": [],
   "source": [
    "transactions1 = pd.merge(transactions1, transactions2, on='item_id',how='left' )"
   ]
  },
  {
   "cell_type": "code",
   "execution_count": 74,
   "metadata": {},
   "outputs": [
    {
     "data": {
      "text/html": [
       "<div>\n",
       "<style scoped>\n",
       "    .dataframe tbody tr th:only-of-type {\n",
       "        vertical-align: middle;\n",
       "    }\n",
       "\n",
       "    .dataframe tbody tr th {\n",
       "        vertical-align: top;\n",
       "    }\n",
       "\n",
       "    .dataframe thead th {\n",
       "        text-align: right;\n",
       "    }\n",
       "</style>\n",
       "<table border=\"1\" class=\"dataframe\">\n",
       "  <thead>\n",
       "    <tr style=\"text-align: right;\">\n",
       "      <th></th>\n",
       "      <th>item_id</th>\n",
       "      <th>coupon_discount</th>\n",
       "      <th>coupon_used</th>\n",
       "      <th>no_of_customers</th>\n",
       "      <th>other_discount</th>\n",
       "      <th>quantity</th>\n",
       "      <th>selling_price</th>\n",
       "      <th>coup_sum</th>\n",
       "      <th>total_counts</th>\n",
       "      <th>other_sum</th>\n",
       "      <th>quantity_sum</th>\n",
       "      <th>price_sum</th>\n",
       "    </tr>\n",
       "  </thead>\n",
       "  <tbody>\n",
       "    <tr>\n",
       "      <th>0</th>\n",
       "      <td>1</td>\n",
       "      <td>0.0</td>\n",
       "      <td>0</td>\n",
       "      <td>2</td>\n",
       "      <td>0.0</td>\n",
       "      <td>1.0</td>\n",
       "      <td>124.31</td>\n",
       "      <td>0.0</td>\n",
       "      <td>2</td>\n",
       "      <td>0.0</td>\n",
       "      <td>2</td>\n",
       "      <td>248.62</td>\n",
       "    </tr>\n",
       "    <tr>\n",
       "      <th>1</th>\n",
       "      <td>2</td>\n",
       "      <td>0.0</td>\n",
       "      <td>0</td>\n",
       "      <td>1</td>\n",
       "      <td>0.0</td>\n",
       "      <td>1.0</td>\n",
       "      <td>35.26</td>\n",
       "      <td>0.0</td>\n",
       "      <td>1</td>\n",
       "      <td>0.0</td>\n",
       "      <td>1</td>\n",
       "      <td>35.26</td>\n",
       "    </tr>\n",
       "  </tbody>\n",
       "</table>\n",
       "</div>"
      ],
      "text/plain": [
       "   item_id  coupon_discount  coupon_used  no_of_customers  other_discount  \\\n",
       "0        1              0.0            0                2             0.0   \n",
       "1        2              0.0            0                1             0.0   \n",
       "\n",
       "   quantity  selling_price  coup_sum  total_counts  other_sum  quantity_sum  \\\n",
       "0       1.0         124.31       0.0             2        0.0             2   \n",
       "1       1.0          35.26       0.0             1        0.0             1   \n",
       "\n",
       "   price_sum  \n",
       "0     248.62  \n",
       "1      35.26  "
      ]
     },
     "execution_count": 74,
     "metadata": {},
     "output_type": "execute_result"
    }
   ],
   "source": [
    "transactions1.head(2)"
   ]
  },
  {
   "cell_type": "code",
   "execution_count": 75,
   "metadata": {},
   "outputs": [
    {
     "data": {
      "text/html": [
       "<div>\n",
       "<style scoped>\n",
       "    .dataframe tbody tr th:only-of-type {\n",
       "        vertical-align: middle;\n",
       "    }\n",
       "\n",
       "    .dataframe tbody tr th {\n",
       "        vertical-align: top;\n",
       "    }\n",
       "\n",
       "    .dataframe thead th {\n",
       "        text-align: right;\n",
       "    }\n",
       "</style>\n",
       "<table border=\"1\" class=\"dataframe\">\n",
       "  <thead>\n",
       "    <tr style=\"text-align: right;\">\n",
       "      <th></th>\n",
       "      <th>item_id</th>\n",
       "      <th>coupon_discount</th>\n",
       "      <th>coupon_used</th>\n",
       "      <th>no_of_customers</th>\n",
       "      <th>other_discount</th>\n",
       "      <th>quantity</th>\n",
       "      <th>selling_price</th>\n",
       "      <th>coup_sum</th>\n",
       "      <th>total_counts</th>\n",
       "      <th>other_sum</th>\n",
       "      <th>quantity_sum</th>\n",
       "      <th>price_sum</th>\n",
       "      <th>total_discount_mean</th>\n",
       "      <th>total_discount_sum</th>\n",
       "    </tr>\n",
       "  </thead>\n",
       "  <tbody>\n",
       "    <tr>\n",
       "      <th>0</th>\n",
       "      <td>1</td>\n",
       "      <td>0.0</td>\n",
       "      <td>0</td>\n",
       "      <td>2</td>\n",
       "      <td>0.0</td>\n",
       "      <td>1.0</td>\n",
       "      <td>124.31</td>\n",
       "      <td>0.0</td>\n",
       "      <td>2</td>\n",
       "      <td>0.0</td>\n",
       "      <td>2</td>\n",
       "      <td>248.62</td>\n",
       "      <td>0.0</td>\n",
       "      <td>0.0</td>\n",
       "    </tr>\n",
       "    <tr>\n",
       "      <th>1</th>\n",
       "      <td>2</td>\n",
       "      <td>0.0</td>\n",
       "      <td>0</td>\n",
       "      <td>1</td>\n",
       "      <td>0.0</td>\n",
       "      <td>1.0</td>\n",
       "      <td>35.26</td>\n",
       "      <td>0.0</td>\n",
       "      <td>1</td>\n",
       "      <td>0.0</td>\n",
       "      <td>1</td>\n",
       "      <td>35.26</td>\n",
       "      <td>0.0</td>\n",
       "      <td>0.0</td>\n",
       "    </tr>\n",
       "    <tr>\n",
       "      <th>2</th>\n",
       "      <td>3</td>\n",
       "      <td>0.0</td>\n",
       "      <td>0</td>\n",
       "      <td>1</td>\n",
       "      <td>0.0</td>\n",
       "      <td>1.0</td>\n",
       "      <td>56.64</td>\n",
       "      <td>0.0</td>\n",
       "      <td>1</td>\n",
       "      <td>0.0</td>\n",
       "      <td>1</td>\n",
       "      <td>56.64</td>\n",
       "      <td>0.0</td>\n",
       "      <td>0.0</td>\n",
       "    </tr>\n",
       "    <tr>\n",
       "      <th>3</th>\n",
       "      <td>4</td>\n",
       "      <td>0.0</td>\n",
       "      <td>0</td>\n",
       "      <td>1</td>\n",
       "      <td>0.0</td>\n",
       "      <td>1.0</td>\n",
       "      <td>54.85</td>\n",
       "      <td>0.0</td>\n",
       "      <td>1</td>\n",
       "      <td>0.0</td>\n",
       "      <td>1</td>\n",
       "      <td>54.85</td>\n",
       "      <td>0.0</td>\n",
       "      <td>0.0</td>\n",
       "    </tr>\n",
       "    <tr>\n",
       "      <th>4</th>\n",
       "      <td>5</td>\n",
       "      <td>0.0</td>\n",
       "      <td>0</td>\n",
       "      <td>1</td>\n",
       "      <td>0.0</td>\n",
       "      <td>1.0</td>\n",
       "      <td>81.57</td>\n",
       "      <td>0.0</td>\n",
       "      <td>1</td>\n",
       "      <td>0.0</td>\n",
       "      <td>1</td>\n",
       "      <td>81.57</td>\n",
       "      <td>0.0</td>\n",
       "      <td>0.0</td>\n",
       "    </tr>\n",
       "  </tbody>\n",
       "</table>\n",
       "</div>"
      ],
      "text/plain": [
       "   item_id  coupon_discount  coupon_used  no_of_customers  other_discount  \\\n",
       "0        1              0.0            0                2             0.0   \n",
       "1        2              0.0            0                1             0.0   \n",
       "2        3              0.0            0                1             0.0   \n",
       "3        4              0.0            0                1             0.0   \n",
       "4        5              0.0            0                1             0.0   \n",
       "\n",
       "   quantity  selling_price  coup_sum  total_counts  other_sum  quantity_sum  \\\n",
       "0       1.0         124.31       0.0             2        0.0             2   \n",
       "1       1.0          35.26       0.0             1        0.0             1   \n",
       "2       1.0          56.64       0.0             1        0.0             1   \n",
       "3       1.0          54.85       0.0             1        0.0             1   \n",
       "4       1.0          81.57       0.0             1        0.0             1   \n",
       "\n",
       "   price_sum  total_discount_mean  total_discount_sum  \n",
       "0     248.62                  0.0                 0.0  \n",
       "1      35.26                  0.0                 0.0  \n",
       "2      56.64                  0.0                 0.0  \n",
       "3      54.85                  0.0                 0.0  \n",
       "4      81.57                  0.0                 0.0  "
      ]
     },
     "execution_count": 75,
     "metadata": {},
     "output_type": "execute_result"
    }
   ],
   "source": [
    "transactions1['total_discount_mean'] = transactions1['coupon_discount'] + transactions1['other_discount']\n",
    "transactions1['total_discount_sum'] = transactions1['other_sum'] + transactions1['coup_sum']\n",
    "transactions1.head()\n"
   ]
  },
  {
   "cell_type": "markdown",
   "metadata": {},
   "source": [
    "**3. Merge 1 and 2 on item_id**"
   ]
  },
  {
   "cell_type": "code",
   "execution_count": 76,
   "metadata": {},
   "outputs": [],
   "source": [
    "item_coupon_trans = pd.merge(df_coup_item, transactions1, on='item_id', how='left')"
   ]
  },
  {
   "cell_type": "code",
   "execution_count": 77,
   "metadata": {},
   "outputs": [
    {
     "data": {
      "text/html": [
       "<div>\n",
       "<style scoped>\n",
       "    .dataframe tbody tr th:only-of-type {\n",
       "        vertical-align: middle;\n",
       "    }\n",
       "\n",
       "    .dataframe tbody tr th {\n",
       "        vertical-align: top;\n",
       "    }\n",
       "\n",
       "    .dataframe thead th {\n",
       "        text-align: right;\n",
       "    }\n",
       "</style>\n",
       "<table border=\"1\" class=\"dataframe\">\n",
       "  <thead>\n",
       "    <tr style=\"text-align: right;\">\n",
       "      <th></th>\n",
       "      <th>coupon_id</th>\n",
       "      <th>item_id</th>\n",
       "      <th>brand</th>\n",
       "      <th>brand_type</th>\n",
       "      <th>category</th>\n",
       "      <th>coupon_discount</th>\n",
       "      <th>coupon_used</th>\n",
       "      <th>no_of_customers</th>\n",
       "      <th>other_discount</th>\n",
       "      <th>quantity</th>\n",
       "      <th>selling_price</th>\n",
       "      <th>coup_sum</th>\n",
       "      <th>total_counts</th>\n",
       "      <th>other_sum</th>\n",
       "      <th>quantity_sum</th>\n",
       "      <th>price_sum</th>\n",
       "      <th>total_discount_mean</th>\n",
       "      <th>total_discount_sum</th>\n",
       "    </tr>\n",
       "  </thead>\n",
       "  <tbody>\n",
       "    <tr>\n",
       "      <th>0</th>\n",
       "      <td>105</td>\n",
       "      <td>37</td>\n",
       "      <td>56</td>\n",
       "      <td>1</td>\n",
       "      <td>6</td>\n",
       "      <td>0.0</td>\n",
       "      <td>0.0</td>\n",
       "      <td>2.0</td>\n",
       "      <td>-8.108333</td>\n",
       "      <td>2.285714</td>\n",
       "      <td>57.247381</td>\n",
       "      <td>0.0</td>\n",
       "      <td>7.0</td>\n",
       "      <td>-56.758333</td>\n",
       "      <td>16.0</td>\n",
       "      <td>400.731667</td>\n",
       "      <td>-8.108333</td>\n",
       "      <td>-56.758333</td>\n",
       "    </tr>\n",
       "    <tr>\n",
       "      <th>1</th>\n",
       "      <td>107</td>\n",
       "      <td>75</td>\n",
       "      <td>56</td>\n",
       "      <td>1</td>\n",
       "      <td>6</td>\n",
       "      <td>0.0</td>\n",
       "      <td>0.0</td>\n",
       "      <td>4.0</td>\n",
       "      <td>-2.633712</td>\n",
       "      <td>1.363636</td>\n",
       "      <td>38.828485</td>\n",
       "      <td>0.0</td>\n",
       "      <td>33.0</td>\n",
       "      <td>-86.912500</td>\n",
       "      <td>45.0</td>\n",
       "      <td>1281.340000</td>\n",
       "      <td>-2.633712</td>\n",
       "      <td>-86.912500</td>\n",
       "    </tr>\n",
       "    <tr>\n",
       "      <th>2</th>\n",
       "      <td>494</td>\n",
       "      <td>76</td>\n",
       "      <td>209</td>\n",
       "      <td>0</td>\n",
       "      <td>6</td>\n",
       "      <td>0.0</td>\n",
       "      <td>0.0</td>\n",
       "      <td>1.0</td>\n",
       "      <td>-17.450000</td>\n",
       "      <td>1.000000</td>\n",
       "      <td>106.500000</td>\n",
       "      <td>0.0</td>\n",
       "      <td>1.0</td>\n",
       "      <td>-17.450000</td>\n",
       "      <td>1.0</td>\n",
       "      <td>106.500000</td>\n",
       "      <td>-17.450000</td>\n",
       "      <td>-17.450000</td>\n",
       "    </tr>\n",
       "    <tr>\n",
       "      <th>3</th>\n",
       "      <td>522</td>\n",
       "      <td>77</td>\n",
       "      <td>278</td>\n",
       "      <td>0</td>\n",
       "      <td>6</td>\n",
       "      <td>0.0</td>\n",
       "      <td>0.0</td>\n",
       "      <td>2.0</td>\n",
       "      <td>-16.920000</td>\n",
       "      <td>1.000000</td>\n",
       "      <td>87.270000</td>\n",
       "      <td>0.0</td>\n",
       "      <td>2.0</td>\n",
       "      <td>-33.840000</td>\n",
       "      <td>2.0</td>\n",
       "      <td>174.540000</td>\n",
       "      <td>-16.920000</td>\n",
       "      <td>-33.840000</td>\n",
       "    </tr>\n",
       "    <tr>\n",
       "      <th>4</th>\n",
       "      <td>518</td>\n",
       "      <td>77</td>\n",
       "      <td>278</td>\n",
       "      <td>0</td>\n",
       "      <td>6</td>\n",
       "      <td>0.0</td>\n",
       "      <td>0.0</td>\n",
       "      <td>2.0</td>\n",
       "      <td>-16.920000</td>\n",
       "      <td>1.000000</td>\n",
       "      <td>87.270000</td>\n",
       "      <td>0.0</td>\n",
       "      <td>2.0</td>\n",
       "      <td>-33.840000</td>\n",
       "      <td>2.0</td>\n",
       "      <td>174.540000</td>\n",
       "      <td>-16.920000</td>\n",
       "      <td>-33.840000</td>\n",
       "    </tr>\n",
       "  </tbody>\n",
       "</table>\n",
       "</div>"
      ],
      "text/plain": [
       "   coupon_id  item_id  brand  brand_type  category  coupon_discount  \\\n",
       "0        105       37     56           1         6              0.0   \n",
       "1        107       75     56           1         6              0.0   \n",
       "2        494       76    209           0         6              0.0   \n",
       "3        522       77    278           0         6              0.0   \n",
       "4        518       77    278           0         6              0.0   \n",
       "\n",
       "   coupon_used  no_of_customers  other_discount  quantity  selling_price  \\\n",
       "0          0.0              2.0       -8.108333  2.285714      57.247381   \n",
       "1          0.0              4.0       -2.633712  1.363636      38.828485   \n",
       "2          0.0              1.0      -17.450000  1.000000     106.500000   \n",
       "3          0.0              2.0      -16.920000  1.000000      87.270000   \n",
       "4          0.0              2.0      -16.920000  1.000000      87.270000   \n",
       "\n",
       "   coup_sum  total_counts  other_sum  quantity_sum    price_sum  \\\n",
       "0       0.0           7.0 -56.758333          16.0   400.731667   \n",
       "1       0.0          33.0 -86.912500          45.0  1281.340000   \n",
       "2       0.0           1.0 -17.450000           1.0   106.500000   \n",
       "3       0.0           2.0 -33.840000           2.0   174.540000   \n",
       "4       0.0           2.0 -33.840000           2.0   174.540000   \n",
       "\n",
       "   total_discount_mean  total_discount_sum  \n",
       "0            -8.108333          -56.758333  \n",
       "1            -2.633712          -86.912500  \n",
       "2           -17.450000          -17.450000  \n",
       "3           -16.920000          -33.840000  \n",
       "4           -16.920000          -33.840000  "
      ]
     },
     "execution_count": 77,
     "metadata": {},
     "output_type": "execute_result"
    }
   ],
   "source": [
    "item_coupon_trans.head(5)"
   ]
  },
  {
   "cell_type": "code",
   "execution_count": 78,
   "metadata": {},
   "outputs": [
    {
     "data": {
      "text/plain": [
       "Index(['coupon_id', 'item_id', 'brand', 'brand_type', 'category',\n",
       "       'coupon_discount', 'coupon_used', 'no_of_customers', 'other_discount',\n",
       "       'quantity', 'selling_price', 'coup_sum', 'total_counts', 'other_sum',\n",
       "       'quantity_sum', 'price_sum', 'total_discount_mean',\n",
       "       'total_discount_sum'],\n",
       "      dtype='object')"
      ]
     },
     "execution_count": 78,
     "metadata": {},
     "output_type": "execute_result"
    }
   ],
   "source": [
    "item_coupon_trans.columns"
   ]
  },
  {
   "cell_type": "markdown",
   "metadata": {},
   "source": [
    "**4. Aggregate 3 on coupon_id**"
   ]
  },
  {
   "cell_type": "code",
   "execution_count": 79,
   "metadata": {},
   "outputs": [],
   "source": [
    "df_coup_item = pd.pivot_table(item_coupon_trans, index =\"coupon_id\",\n",
    "                         values=[ 'item_id', 'brand', 'brand_type', 'category',\n",
    "       'coupon_discount', 'coupon_used', 'no_of_customers', 'other_discount',\n",
    "       'quantity', 'selling_price', 'coup_sum', 'total_counts', 'other_sum', 'quantity_sum',\n",
    "       'price_sum', 'total_discount_mean', 'total_discount_sum'],\n",
    "                       aggfunc={'item_id':lambda x: len(set(x)),\n",
    "                       'brand':lambda x: mode(x)[0][0],\n",
    "                       'brand_type':lambda x: mode(x)[0][0],\n",
    "                       'category':lambda x: mode(x)[0][0],\n",
    "                       'coupon_discount':np.mean,\n",
    "                       'no_of_customers':np.mean,\n",
    "                       'other_discount':np.mean,\n",
    "                       'quantity':np.mean,\n",
    "                       'selling_price':np.mean,\n",
    "                      'coupon_used': np.sum,\n",
    "                       'coup_sum': np.sum,\n",
    "                       'total_counts': np.sum,\n",
    "                       'other_sum': np.sum,\n",
    "                       'quantity_sum': np.sum,\n",
    "                       'price_sum': np.sum,\n",
    "                       'total_discount_mean': np.mean,\n",
    "                       'total_discount_sum': np.sum\n",
    "                      })\n",
    "df_coup_item.reset_index(inplace=True) "
   ]
  },
  {
   "cell_type": "code",
   "execution_count": 80,
   "metadata": {},
   "outputs": [],
   "source": [
    "df_coup_item.rename(columns={'item_id':'item_counts'}, inplace=True)"
   ]
  },
  {
   "cell_type": "code",
   "execution_count": 81,
   "metadata": {},
   "outputs": [
    {
     "data": {
      "text/html": [
       "<div>\n",
       "<style scoped>\n",
       "    .dataframe tbody tr th:only-of-type {\n",
       "        vertical-align: middle;\n",
       "    }\n",
       "\n",
       "    .dataframe tbody tr th {\n",
       "        vertical-align: top;\n",
       "    }\n",
       "\n",
       "    .dataframe thead th {\n",
       "        text-align: right;\n",
       "    }\n",
       "</style>\n",
       "<table border=\"1\" class=\"dataframe\">\n",
       "  <thead>\n",
       "    <tr style=\"text-align: right;\">\n",
       "      <th></th>\n",
       "      <th>coupon_id</th>\n",
       "      <th>brand</th>\n",
       "      <th>brand_type</th>\n",
       "      <th>category</th>\n",
       "      <th>coup_sum</th>\n",
       "      <th>coupon_discount</th>\n",
       "      <th>coupon_used</th>\n",
       "      <th>item_counts</th>\n",
       "      <th>no_of_customers</th>\n",
       "      <th>other_discount</th>\n",
       "      <th>other_sum</th>\n",
       "      <th>price_sum</th>\n",
       "      <th>quantity</th>\n",
       "      <th>quantity_sum</th>\n",
       "      <th>selling_price</th>\n",
       "      <th>total_counts</th>\n",
       "      <th>total_discount_mean</th>\n",
       "      <th>total_discount_sum</th>\n",
       "    </tr>\n",
       "  </thead>\n",
       "  <tbody>\n",
       "    <tr>\n",
       "      <th>0</th>\n",
       "      <td>1</td>\n",
       "      <td>1475</td>\n",
       "      <td>0</td>\n",
       "      <td>9</td>\n",
       "      <td>-1526.31</td>\n",
       "      <td>-1.321524</td>\n",
       "      <td>35.0</td>\n",
       "      <td>39</td>\n",
       "      <td>14.794872</td>\n",
       "      <td>-16.620713</td>\n",
       "      <td>-18780.020833</td>\n",
       "      <td>89796.868333</td>\n",
       "      <td>1.221644</td>\n",
       "      <td>1034.0</td>\n",
       "      <td>101.183245</td>\n",
       "      <td>826.0</td>\n",
       "      <td>-17.942237</td>\n",
       "      <td>-20306.330833</td>\n",
       "    </tr>\n",
       "    <tr>\n",
       "      <th>1</th>\n",
       "      <td>2</td>\n",
       "      <td>2084</td>\n",
       "      <td>0</td>\n",
       "      <td>6</td>\n",
       "      <td>0.00</td>\n",
       "      <td>0.000000</td>\n",
       "      <td>0.0</td>\n",
       "      <td>2</td>\n",
       "      <td>15.000000</td>\n",
       "      <td>-21.343885</td>\n",
       "      <td>-1163.521667</td>\n",
       "      <td>8940.520000</td>\n",
       "      <td>1.137500</td>\n",
       "      <td>103.0</td>\n",
       "      <td>122.534500</td>\n",
       "      <td>81.0</td>\n",
       "      <td>-21.343885</td>\n",
       "      <td>-1163.521667</td>\n",
       "    </tr>\n",
       "    <tr>\n",
       "      <th>2</th>\n",
       "      <td>3</td>\n",
       "      <td>278</td>\n",
       "      <td>0</td>\n",
       "      <td>6</td>\n",
       "      <td>-578.81</td>\n",
       "      <td>-2.747358</td>\n",
       "      <td>15.0</td>\n",
       "      <td>17</td>\n",
       "      <td>8.588235</td>\n",
       "      <td>-14.728021</td>\n",
       "      <td>-4055.343333</td>\n",
       "      <td>27756.490000</td>\n",
       "      <td>1.121525</td>\n",
       "      <td>248.0</td>\n",
       "      <td>131.655894</td>\n",
       "      <td>212.0</td>\n",
       "      <td>-17.475379</td>\n",
       "      <td>-4634.153333</td>\n",
       "    </tr>\n",
       "    <tr>\n",
       "      <th>3</th>\n",
       "      <td>4</td>\n",
       "      <td>544</td>\n",
       "      <td>0</td>\n",
       "      <td>6</td>\n",
       "      <td>-881.59</td>\n",
       "      <td>-1.485152</td>\n",
       "      <td>44.0</td>\n",
       "      <td>24</td>\n",
       "      <td>22.333333</td>\n",
       "      <td>-36.718597</td>\n",
       "      <td>-25895.740000</td>\n",
       "      <td>142874.023333</td>\n",
       "      <td>1.020872</td>\n",
       "      <td>702.0</td>\n",
       "      <td>211.708369</td>\n",
       "      <td>676.0</td>\n",
       "      <td>-38.203749</td>\n",
       "      <td>-26777.330000</td>\n",
       "    </tr>\n",
       "    <tr>\n",
       "      <th>4</th>\n",
       "      <td>5</td>\n",
       "      <td>5357</td>\n",
       "      <td>0</td>\n",
       "      <td>11</td>\n",
       "      <td>0.00</td>\n",
       "      <td>0.000000</td>\n",
       "      <td>0.0</td>\n",
       "      <td>7</td>\n",
       "      <td>6.000000</td>\n",
       "      <td>-27.265786</td>\n",
       "      <td>-1228.880000</td>\n",
       "      <td>16636.570000</td>\n",
       "      <td>1.000000</td>\n",
       "      <td>44.0</td>\n",
       "      <td>403.970000</td>\n",
       "      <td>44.0</td>\n",
       "      <td>-27.265786</td>\n",
       "      <td>-1228.880000</td>\n",
       "    </tr>\n",
       "  </tbody>\n",
       "</table>\n",
       "</div>"
      ],
      "text/plain": [
       "   coupon_id  brand  brand_type  category  coup_sum  coupon_discount  \\\n",
       "0          1   1475           0         9  -1526.31        -1.321524   \n",
       "1          2   2084           0         6      0.00         0.000000   \n",
       "2          3    278           0         6   -578.81        -2.747358   \n",
       "3          4    544           0         6   -881.59        -1.485152   \n",
       "4          5   5357           0        11      0.00         0.000000   \n",
       "\n",
       "   coupon_used  item_counts  no_of_customers  other_discount     other_sum  \\\n",
       "0         35.0           39        14.794872      -16.620713 -18780.020833   \n",
       "1          0.0            2        15.000000      -21.343885  -1163.521667   \n",
       "2         15.0           17         8.588235      -14.728021  -4055.343333   \n",
       "3         44.0           24        22.333333      -36.718597 -25895.740000   \n",
       "4          0.0            7         6.000000      -27.265786  -1228.880000   \n",
       "\n",
       "       price_sum  quantity  quantity_sum  selling_price  total_counts  \\\n",
       "0   89796.868333  1.221644        1034.0     101.183245         826.0   \n",
       "1    8940.520000  1.137500         103.0     122.534500          81.0   \n",
       "2   27756.490000  1.121525         248.0     131.655894         212.0   \n",
       "3  142874.023333  1.020872         702.0     211.708369         676.0   \n",
       "4   16636.570000  1.000000          44.0     403.970000          44.0   \n",
       "\n",
       "   total_discount_mean  total_discount_sum  \n",
       "0           -17.942237       -20306.330833  \n",
       "1           -21.343885        -1163.521667  \n",
       "2           -17.475379        -4634.153333  \n",
       "3           -38.203749       -26777.330000  \n",
       "4           -27.265786        -1228.880000  "
      ]
     },
     "execution_count": 81,
     "metadata": {},
     "output_type": "execute_result"
    }
   ],
   "source": [
    "df_coup_item.head()"
   ]
  },
  {
   "cell_type": "markdown",
   "metadata": {},
   "source": [
    "**5. Aggregate transactions on customer_id**"
   ]
  },
  {
   "cell_type": "code",
   "execution_count": 82,
   "metadata": {},
   "outputs": [
    {
     "data": {
      "text/html": [
       "<div>\n",
       "<style scoped>\n",
       "    .dataframe tbody tr th:only-of-type {\n",
       "        vertical-align: middle;\n",
       "    }\n",
       "\n",
       "    .dataframe tbody tr th {\n",
       "        vertical-align: top;\n",
       "    }\n",
       "\n",
       "    .dataframe thead th {\n",
       "        text-align: right;\n",
       "    }\n",
       "</style>\n",
       "<table border=\"1\" class=\"dataframe\">\n",
       "  <thead>\n",
       "    <tr style=\"text-align: right;\">\n",
       "      <th></th>\n",
       "      <th>customer_id</th>\n",
       "      <th>coupon_discount</th>\n",
       "      <th>coupon_used</th>\n",
       "      <th>day</th>\n",
       "      <th>no_of_items</th>\n",
       "      <th>month</th>\n",
       "      <th>other_discount</th>\n",
       "      <th>quantity</th>\n",
       "      <th>selling_price</th>\n",
       "      <th>weekday</th>\n",
       "    </tr>\n",
       "  </thead>\n",
       "  <tbody>\n",
       "    <tr>\n",
       "      <th>0</th>\n",
       "      <td>1</td>\n",
       "      <td>-2.019876</td>\n",
       "      <td>78</td>\n",
       "      <td>3</td>\n",
       "      <td>463</td>\n",
       "      <td>5</td>\n",
       "      <td>-12.837537</td>\n",
       "      <td>1.170802</td>\n",
       "      <td>97.470480</td>\n",
       "      <td>3</td>\n",
       "    </tr>\n",
       "    <tr>\n",
       "      <th>1</th>\n",
       "      <td>2</td>\n",
       "      <td>-0.595084</td>\n",
       "      <td>4</td>\n",
       "      <td>13</td>\n",
       "      <td>352</td>\n",
       "      <td>6</td>\n",
       "      <td>-13.432195</td>\n",
       "      <td>1.131265</td>\n",
       "      <td>107.805783</td>\n",
       "      <td>5</td>\n",
       "    </tr>\n",
       "    <tr>\n",
       "      <th>2</th>\n",
       "      <td>3</td>\n",
       "      <td>-3.091546</td>\n",
       "      <td>53</td>\n",
       "      <td>16</td>\n",
       "      <td>406</td>\n",
       "      <td>7</td>\n",
       "      <td>-14.074853</td>\n",
       "      <td>11.578723</td>\n",
       "      <td>85.082452</td>\n",
       "      <td>4</td>\n",
       "    </tr>\n",
       "    <tr>\n",
       "      <th>3</th>\n",
       "      <td>4</td>\n",
       "      <td>-0.404773</td>\n",
       "      <td>1</td>\n",
       "      <td>14</td>\n",
       "      <td>125</td>\n",
       "      <td>5</td>\n",
       "      <td>-8.883656</td>\n",
       "      <td>1.272727</td>\n",
       "      <td>138.256770</td>\n",
       "      <td>5</td>\n",
       "    </tr>\n",
       "    <tr>\n",
       "      <th>4</th>\n",
       "      <td>5</td>\n",
       "      <td>-0.114684</td>\n",
       "      <td>2</td>\n",
       "      <td>11</td>\n",
       "      <td>490</td>\n",
       "      <td>5</td>\n",
       "      <td>-11.260696</td>\n",
       "      <td>117.869949</td>\n",
       "      <td>115.482842</td>\n",
       "      <td>1</td>\n",
       "    </tr>\n",
       "  </tbody>\n",
       "</table>\n",
       "</div>"
      ],
      "text/plain": [
       "   customer_id  coupon_discount  coupon_used  day  no_of_items  month  \\\n",
       "0            1        -2.019876           78    3          463      5   \n",
       "1            2        -0.595084            4   13          352      6   \n",
       "2            3        -3.091546           53   16          406      7   \n",
       "3            4        -0.404773            1   14          125      5   \n",
       "4            5        -0.114684            2   11          490      5   \n",
       "\n",
       "   other_discount    quantity  selling_price  weekday  \n",
       "0      -12.837537    1.170802      97.470480        3  \n",
       "1      -13.432195    1.131265     107.805783        5  \n",
       "2      -14.074853   11.578723      85.082452        4  \n",
       "3       -8.883656    1.272727     138.256770        5  \n",
       "4      -11.260696  117.869949     115.482842        1  "
      ]
     },
     "execution_count": 82,
     "metadata": {},
     "output_type": "execute_result"
    }
   ],
   "source": [
    "# Aggregate transactions by customer_id\n",
    "transactions3 = pd.pivot_table(df_customer_tran, index = \"customer_id\", \n",
    "               values=['item_id','quantity','selling_price', 'other_discount','coupon_discount','coupon_used','day','weekday','month'],\n",
    "               aggfunc={'item_id':lambda x: len(set(x)),\n",
    "                        'quantity':np.mean,\n",
    "                        'selling_price':np.mean,\n",
    "                        'other_discount':np.mean,\n",
    "                        'coupon_discount':np.mean,\n",
    "                        'coupon_used': np.sum,\n",
    "                        'day':lambda x: mode(x)[0][0],\n",
    "                        'weekday':lambda x: mode(x)[0][0],\n",
    "                        'month':lambda x: mode(x)[0][0]}\n",
    "              )\n",
    "transactions3.reset_index(inplace=True)\n",
    "transactions3.rename(columns={'item_id': 'no_of_items'}, inplace=True)\n",
    "transactions3.head()"
   ]
  },
  {
   "cell_type": "code",
   "execution_count": 83,
   "metadata": {
    "scrolled": true
   },
   "outputs": [
    {
     "data": {
      "text/html": [
       "<div>\n",
       "<style scoped>\n",
       "    .dataframe tbody tr th:only-of-type {\n",
       "        vertical-align: middle;\n",
       "    }\n",
       "\n",
       "    .dataframe tbody tr th {\n",
       "        vertical-align: top;\n",
       "    }\n",
       "\n",
       "    .dataframe thead th {\n",
       "        text-align: right;\n",
       "    }\n",
       "</style>\n",
       "<table border=\"1\" class=\"dataframe\">\n",
       "  <thead>\n",
       "    <tr style=\"text-align: right;\">\n",
       "      <th></th>\n",
       "      <th>customer_id</th>\n",
       "      <th>coup_dis_sum</th>\n",
       "      <th>customer_id_count</th>\n",
       "      <th>odd_sum</th>\n",
       "      <th>quan_sum</th>\n",
       "      <th>sell_price_sum</th>\n",
       "    </tr>\n",
       "  </thead>\n",
       "  <tbody>\n",
       "    <tr>\n",
       "      <th>0</th>\n",
       "      <td>1</td>\n",
       "      <td>-2116.83</td>\n",
       "      <td>1048</td>\n",
       "      <td>-13453.738833</td>\n",
       "      <td>1227</td>\n",
       "      <td>102149.063000</td>\n",
       "    </tr>\n",
       "    <tr>\n",
       "      <th>1</th>\n",
       "      <td>2</td>\n",
       "      <td>-249.34</td>\n",
       "      <td>419</td>\n",
       "      <td>-5628.089833</td>\n",
       "      <td>474</td>\n",
       "      <td>45170.623167</td>\n",
       "    </tr>\n",
       "    <tr>\n",
       "      <th>2</th>\n",
       "      <td>3</td>\n",
       "      <td>-2179.54</td>\n",
       "      <td>705</td>\n",
       "      <td>-9922.771654</td>\n",
       "      <td>8163</td>\n",
       "      <td>59983.128347</td>\n",
       "    </tr>\n",
       "    <tr>\n",
       "      <th>3</th>\n",
       "      <td>4</td>\n",
       "      <td>-89.05</td>\n",
       "      <td>220</td>\n",
       "      <td>-1954.404333</td>\n",
       "      <td>280</td>\n",
       "      <td>30416.489333</td>\n",
       "    </tr>\n",
       "    <tr>\n",
       "      <th>4</th>\n",
       "      <td>5</td>\n",
       "      <td>-90.83</td>\n",
       "      <td>792</td>\n",
       "      <td>-8918.471477</td>\n",
       "      <td>93353</td>\n",
       "      <td>91462.410620</td>\n",
       "    </tr>\n",
       "  </tbody>\n",
       "</table>\n",
       "</div>"
      ],
      "text/plain": [
       "   customer_id  coup_dis_sum  customer_id_count       odd_sum  quan_sum  \\\n",
       "0            1      -2116.83               1048 -13453.738833      1227   \n",
       "1            2       -249.34                419  -5628.089833       474   \n",
       "2            3      -2179.54                705  -9922.771654      8163   \n",
       "3            4        -89.05                220  -1954.404333       280   \n",
       "4            5        -90.83                792  -8918.471477     93353   \n",
       "\n",
       "   sell_price_sum  \n",
       "0   102149.063000  \n",
       "1    45170.623167  \n",
       "2    59983.128347  \n",
       "3    30416.489333  \n",
       "4    91462.410620  "
      ]
     },
     "execution_count": 83,
     "metadata": {},
     "output_type": "execute_result"
    }
   ],
   "source": [
    "# Aggregate transactions by customer_id by sum\n",
    "transactions4 = pd.pivot_table(df_customer_tran, index = \"customer_id\", \n",
    "               values=['item_id','quantity','selling_price', 'other_discount','coupon_discount'],\n",
    "               aggfunc={'item_id':len,\n",
    "                        'quantity':np.sum,\n",
    "                        'selling_price':np.sum,\n",
    "                        'other_discount':np.sum,\n",
    "                        'coupon_discount':np.sum}\n",
    "              )\n",
    "transactions4.reset_index(inplace=True)\n",
    "transactions4.rename(columns={'item_id': 'customer_id_count','quantity':'quan_sum','selling_price':'sell_price_sum',\n",
    "                             'other_discount':'odd_sum','coupon_discount':'coup_dis_sum'  }, inplace=True)\n",
    "transactions4.head()"
   ]
  },
  {
   "cell_type": "code",
   "execution_count": 84,
   "metadata": {},
   "outputs": [
    {
     "data": {
      "text/html": [
       "<div>\n",
       "<style scoped>\n",
       "    .dataframe tbody tr th:only-of-type {\n",
       "        vertical-align: middle;\n",
       "    }\n",
       "\n",
       "    .dataframe tbody tr th {\n",
       "        vertical-align: top;\n",
       "    }\n",
       "\n",
       "    .dataframe thead th {\n",
       "        text-align: right;\n",
       "    }\n",
       "</style>\n",
       "<table border=\"1\" class=\"dataframe\">\n",
       "  <thead>\n",
       "    <tr style=\"text-align: right;\">\n",
       "      <th></th>\n",
       "      <th>customer_id</th>\n",
       "      <th>coupon_discount</th>\n",
       "      <th>coupon_used</th>\n",
       "      <th>day</th>\n",
       "      <th>no_of_items</th>\n",
       "      <th>month</th>\n",
       "      <th>other_discount</th>\n",
       "      <th>quantity</th>\n",
       "      <th>selling_price</th>\n",
       "      <th>weekday</th>\n",
       "      <th>coup_dis_sum</th>\n",
       "      <th>customer_id_count</th>\n",
       "      <th>odd_sum</th>\n",
       "      <th>quan_sum</th>\n",
       "      <th>sell_price_sum</th>\n",
       "    </tr>\n",
       "  </thead>\n",
       "  <tbody>\n",
       "    <tr>\n",
       "      <th>0</th>\n",
       "      <td>1</td>\n",
       "      <td>-2.019876</td>\n",
       "      <td>78</td>\n",
       "      <td>3</td>\n",
       "      <td>463</td>\n",
       "      <td>5</td>\n",
       "      <td>-12.837537</td>\n",
       "      <td>1.170802</td>\n",
       "      <td>97.470480</td>\n",
       "      <td>3</td>\n",
       "      <td>-2116.83</td>\n",
       "      <td>1048</td>\n",
       "      <td>-13453.738833</td>\n",
       "      <td>1227</td>\n",
       "      <td>102149.063000</td>\n",
       "    </tr>\n",
       "    <tr>\n",
       "      <th>1</th>\n",
       "      <td>2</td>\n",
       "      <td>-0.595084</td>\n",
       "      <td>4</td>\n",
       "      <td>13</td>\n",
       "      <td>352</td>\n",
       "      <td>6</td>\n",
       "      <td>-13.432195</td>\n",
       "      <td>1.131265</td>\n",
       "      <td>107.805783</td>\n",
       "      <td>5</td>\n",
       "      <td>-249.34</td>\n",
       "      <td>419</td>\n",
       "      <td>-5628.089833</td>\n",
       "      <td>474</td>\n",
       "      <td>45170.623167</td>\n",
       "    </tr>\n",
       "    <tr>\n",
       "      <th>2</th>\n",
       "      <td>3</td>\n",
       "      <td>-3.091546</td>\n",
       "      <td>53</td>\n",
       "      <td>16</td>\n",
       "      <td>406</td>\n",
       "      <td>7</td>\n",
       "      <td>-14.074853</td>\n",
       "      <td>11.578723</td>\n",
       "      <td>85.082452</td>\n",
       "      <td>4</td>\n",
       "      <td>-2179.54</td>\n",
       "      <td>705</td>\n",
       "      <td>-9922.771654</td>\n",
       "      <td>8163</td>\n",
       "      <td>59983.128347</td>\n",
       "    </tr>\n",
       "    <tr>\n",
       "      <th>3</th>\n",
       "      <td>4</td>\n",
       "      <td>-0.404773</td>\n",
       "      <td>1</td>\n",
       "      <td>14</td>\n",
       "      <td>125</td>\n",
       "      <td>5</td>\n",
       "      <td>-8.883656</td>\n",
       "      <td>1.272727</td>\n",
       "      <td>138.256770</td>\n",
       "      <td>5</td>\n",
       "      <td>-89.05</td>\n",
       "      <td>220</td>\n",
       "      <td>-1954.404333</td>\n",
       "      <td>280</td>\n",
       "      <td>30416.489333</td>\n",
       "    </tr>\n",
       "    <tr>\n",
       "      <th>4</th>\n",
       "      <td>5</td>\n",
       "      <td>-0.114684</td>\n",
       "      <td>2</td>\n",
       "      <td>11</td>\n",
       "      <td>490</td>\n",
       "      <td>5</td>\n",
       "      <td>-11.260696</td>\n",
       "      <td>117.869949</td>\n",
       "      <td>115.482842</td>\n",
       "      <td>1</td>\n",
       "      <td>-90.83</td>\n",
       "      <td>792</td>\n",
       "      <td>-8918.471477</td>\n",
       "      <td>93353</td>\n",
       "      <td>91462.410620</td>\n",
       "    </tr>\n",
       "  </tbody>\n",
       "</table>\n",
       "</div>"
      ],
      "text/plain": [
       "   customer_id  coupon_discount  coupon_used  day  no_of_items  month  \\\n",
       "0            1        -2.019876           78    3          463      5   \n",
       "1            2        -0.595084            4   13          352      6   \n",
       "2            3        -3.091546           53   16          406      7   \n",
       "3            4        -0.404773            1   14          125      5   \n",
       "4            5        -0.114684            2   11          490      5   \n",
       "\n",
       "   other_discount    quantity  selling_price  weekday  coup_dis_sum  \\\n",
       "0      -12.837537    1.170802      97.470480        3      -2116.83   \n",
       "1      -13.432195    1.131265     107.805783        5       -249.34   \n",
       "2      -14.074853   11.578723      85.082452        4      -2179.54   \n",
       "3       -8.883656    1.272727     138.256770        5        -89.05   \n",
       "4      -11.260696  117.869949     115.482842        1        -90.83   \n",
       "\n",
       "   customer_id_count       odd_sum  quan_sum  sell_price_sum  \n",
       "0               1048 -13453.738833      1227   102149.063000  \n",
       "1                419  -5628.089833       474    45170.623167  \n",
       "2                705  -9922.771654      8163    59983.128347  \n",
       "3                220  -1954.404333       280    30416.489333  \n",
       "4                792  -8918.471477     93353    91462.410620  "
      ]
     },
     "execution_count": 84,
     "metadata": {},
     "output_type": "execute_result"
    }
   ],
   "source": [
    "transactions = pd.merge(transactions3, transactions4, on='customer_id', how='left')\n",
    "transactions.head()\n"
   ]
  },
  {
   "cell_type": "markdown",
   "metadata": {},
   "source": [
    "**6. Merge 4 and train on coupon_id**\n",
    "\n",
    "**7. Merge 5 with campaign data on campaign_id**\n",
    "\n",
    "**8. Merge 7 with customer demographic data on customer_id**\n",
    "\n",
    "**9. Merge 6 with 8 on customer_id respectively**\n"
   ]
  },
  {
   "cell_type": "code",
   "execution_count": 85,
   "metadata": {},
   "outputs": [],
   "source": [
    "def merge_all(df): \n",
    "    df =  pd.merge(df, df_coup_item, on=\"coupon_id\", how=\"left\")\n",
    "    df = pd.merge(df, df_cam_data, on=\"campaign_id\", how=\"left\")\n",
    "    df = pd.merge(df, df_customer_demo, on=\"customer_id\", how=\"left\")\n",
    "    df = pd.merge(df, transactions, on=\"customer_id\", how=\"left\")\n",
    "    return df"
   ]
  },
  {
   "cell_type": "code",
   "execution_count": 86,
   "metadata": {},
   "outputs": [],
   "source": [
    "train = merge_all(df_train)\n",
    "test = merge_all(df_test)"
   ]
  },
  {
   "cell_type": "code",
   "execution_count": 87,
   "metadata": {},
   "outputs": [
    {
     "data": {
      "text/plain": [
       "(62695, 46)"
      ]
     },
     "execution_count": 87,
     "metadata": {},
     "output_type": "execute_result"
    }
   ],
   "source": [
    "train.shape"
   ]
  },
  {
   "cell_type": "code",
   "execution_count": 88,
   "metadata": {},
   "outputs": [
    {
     "data": {
      "text/plain": [
       "(15674, 46)"
      ]
     },
     "execution_count": 88,
     "metadata": {},
     "output_type": "execute_result"
    }
   ],
   "source": [
    "test.shape"
   ]
  },
  {
   "cell_type": "markdown",
   "metadata": {},
   "source": [
    "## Data is Ready here, But we need to check for Null Values which could have been created while merging."
   ]
  },
  {
   "cell_type": "code",
   "execution_count": 89,
   "metadata": {},
   "outputs": [
    {
     "data": {
      "text/plain": [
       "id                         0\n",
       "campaign_id                0\n",
       "coupon_id                  0\n",
       "customer_id                0\n",
       "redemption_status          0\n",
       "brand                      0\n",
       "brand_type                 0\n",
       "category                   0\n",
       "coup_sum                   0\n",
       "coupon_discount_x          0\n",
       "coupon_used_x              0\n",
       "item_counts                0\n",
       "no_of_customers            0\n",
       "other_discount_x           0\n",
       "other_sum                  0\n",
       "price_sum                  0\n",
       "quantity_x                 0\n",
       "quantity_sum               0\n",
       "selling_price_x            0\n",
       "total_counts               0\n",
       "total_discount_mean        0\n",
       "total_discount_sum         0\n",
       "campaign_type              0\n",
       "start_date                 0\n",
       "end_date                   0\n",
       "campaign_duration          0\n",
       "age_range              27745\n",
       "marital_status         27745\n",
       "rented                 27745\n",
       "family_size            27745\n",
       "no_of_children         27745\n",
       "income_bracket         27745\n",
       "coupon_discount_y          0\n",
       "coupon_used_y              0\n",
       "day                        0\n",
       "no_of_items                0\n",
       "month                      0\n",
       "other_discount_y           0\n",
       "quantity_y                 0\n",
       "selling_price_y            0\n",
       "weekday                    0\n",
       "coup_dis_sum               0\n",
       "customer_id_count          0\n",
       "odd_sum                    0\n",
       "quan_sum                   0\n",
       "sell_price_sum             0\n",
       "dtype: int64"
      ]
     },
     "execution_count": 89,
     "metadata": {},
     "output_type": "execute_result"
    }
   ],
   "source": [
    "train.isnull().sum()"
   ]
  },
  {
   "cell_type": "code",
   "execution_count": 90,
   "metadata": {},
   "outputs": [
    {
     "data": {
      "text/plain": [
       "id                        0\n",
       "campaign_id               0\n",
       "coupon_id                 0\n",
       "customer_id               0\n",
       "redemption_status         0\n",
       "brand                     0\n",
       "brand_type                0\n",
       "category                  0\n",
       "coup_sum                  0\n",
       "coupon_discount_x         0\n",
       "coupon_used_x             0\n",
       "item_counts               0\n",
       "no_of_customers           0\n",
       "other_discount_x          0\n",
       "other_sum                 0\n",
       "price_sum                 0\n",
       "quantity_x                0\n",
       "quantity_sum              0\n",
       "selling_price_x           0\n",
       "total_counts              0\n",
       "total_discount_mean       0\n",
       "total_discount_sum        0\n",
       "campaign_type             0\n",
       "start_date                0\n",
       "end_date                  0\n",
       "campaign_duration         0\n",
       "age_range              6963\n",
       "marital_status         6963\n",
       "rented                 6963\n",
       "family_size            6963\n",
       "no_of_children         6963\n",
       "income_bracket         6963\n",
       "coupon_discount_y         0\n",
       "coupon_used_y             0\n",
       "day                       0\n",
       "no_of_items               0\n",
       "month                     0\n",
       "other_discount_y          0\n",
       "quantity_y                0\n",
       "selling_price_y           0\n",
       "weekday                   0\n",
       "coup_dis_sum              0\n",
       "customer_id_count         0\n",
       "odd_sum                   0\n",
       "quan_sum                  0\n",
       "sell_price_sum            0\n",
       "dtype: int64"
      ]
     },
     "execution_count": 90,
     "metadata": {},
     "output_type": "execute_result"
    }
   ],
   "source": [
    "test.isnull().sum()"
   ]
  },
  {
   "cell_type": "markdown",
   "metadata": {},
   "source": [
    "**Observation**\n",
    "\n",
    "There are missing values in:\n",
    "\n",
    "- age_range\n",
    "- marital_status\n",
    "- rented\n",
    "- family_size\n",
    "- no_of_children\n",
    "- income_brac"
   ]
  },
  {
   "cell_type": "markdown",
   "metadata": {},
   "source": [
    "**As all of these columns are present in cust_demo dataframe, filling the NaN's with the mode.**"
   ]
  },
  {
   "cell_type": "code",
   "execution_count": 91,
   "metadata": {},
   "outputs": [],
   "source": [
    "def deal_na(df):\n",
    "    for col in df_customer_demo.columns.tolist()[1:]:\n",
    "        df[col].fillna(mode(df[col]).mode[0], inplace=True)\n",
    "    return df\n",
    "\n",
    "\n",
    "train = deal_na(train)\n",
    "test = deal_na(test)"
   ]
  },
  {
   "cell_type": "code",
   "execution_count": 92,
   "metadata": {},
   "outputs": [
    {
     "data": {
      "text/plain": [
       "id                     0\n",
       "campaign_id            0\n",
       "coupon_id              0\n",
       "customer_id            0\n",
       "redemption_status      0\n",
       "brand                  0\n",
       "brand_type             0\n",
       "category               0\n",
       "coup_sum               0\n",
       "coupon_discount_x      0\n",
       "coupon_used_x          0\n",
       "item_counts            0\n",
       "no_of_customers        0\n",
       "other_discount_x       0\n",
       "other_sum              0\n",
       "price_sum              0\n",
       "quantity_x             0\n",
       "quantity_sum           0\n",
       "selling_price_x        0\n",
       "total_counts           0\n",
       "total_discount_mean    0\n",
       "total_discount_sum     0\n",
       "campaign_type          0\n",
       "start_date             0\n",
       "end_date               0\n",
       "campaign_duration      0\n",
       "age_range              0\n",
       "marital_status         0\n",
       "rented                 0\n",
       "family_size            0\n",
       "no_of_children         0\n",
       "income_bracket         0\n",
       "coupon_discount_y      0\n",
       "coupon_used_y          0\n",
       "day                    0\n",
       "no_of_items            0\n",
       "month                  0\n",
       "other_discount_y       0\n",
       "quantity_y             0\n",
       "selling_price_y        0\n",
       "weekday                0\n",
       "coup_dis_sum           0\n",
       "customer_id_count      0\n",
       "odd_sum                0\n",
       "quan_sum               0\n",
       "sell_price_sum         0\n",
       "dtype: int64"
      ]
     },
     "execution_count": 92,
     "metadata": {},
     "output_type": "execute_result"
    }
   ],
   "source": [
    "train.isnull().sum()"
   ]
  },
  {
   "cell_type": "code",
   "execution_count": 93,
   "metadata": {},
   "outputs": [
    {
     "data": {
      "text/plain": [
       "id                     0\n",
       "campaign_id            0\n",
       "coupon_id              0\n",
       "customer_id            0\n",
       "redemption_status      0\n",
       "brand                  0\n",
       "brand_type             0\n",
       "category               0\n",
       "coup_sum               0\n",
       "coupon_discount_x      0\n",
       "coupon_used_x          0\n",
       "item_counts            0\n",
       "no_of_customers        0\n",
       "other_discount_x       0\n",
       "other_sum              0\n",
       "price_sum              0\n",
       "quantity_x             0\n",
       "quantity_sum           0\n",
       "selling_price_x        0\n",
       "total_counts           0\n",
       "total_discount_mean    0\n",
       "total_discount_sum     0\n",
       "campaign_type          0\n",
       "start_date             0\n",
       "end_date               0\n",
       "campaign_duration      0\n",
       "age_range              0\n",
       "marital_status         0\n",
       "rented                 0\n",
       "family_size            0\n",
       "no_of_children         0\n",
       "income_bracket         0\n",
       "coupon_discount_y      0\n",
       "coupon_used_y          0\n",
       "day                    0\n",
       "no_of_items            0\n",
       "month                  0\n",
       "other_discount_y       0\n",
       "quantity_y             0\n",
       "selling_price_y        0\n",
       "weekday                0\n",
       "coup_dis_sum           0\n",
       "customer_id_count      0\n",
       "odd_sum                0\n",
       "quan_sum               0\n",
       "sell_price_sum         0\n",
       "dtype: int64"
      ]
     },
     "execution_count": 93,
     "metadata": {},
     "output_type": "execute_result"
    }
   ],
   "source": [
    "test.isnull().sum()"
   ]
  },
  {
   "cell_type": "markdown",
   "metadata": {},
   "source": [
    "**Now Dropping off the Unwanted Columns and making the data ready for Model Building**"
   ]
  },
  {
   "cell_type": "code",
   "execution_count": 94,
   "metadata": {},
   "outputs": [],
   "source": [
    "test_id = test['id']\n",
    "target = train['redemption_status']\n",
    "train.drop(['id','campaign_id','start_date','end_date', 'redemption_status'], axis=1, inplace=True)\n",
    "test.drop(['id','campaign_id','start_date','end_date'], axis=1, inplace=True)"
   ]
  },
  {
   "cell_type": "code",
   "execution_count": 95,
   "metadata": {},
   "outputs": [
    {
     "data": {
      "text/html": [
       "<div>\n",
       "<style scoped>\n",
       "    .dataframe tbody tr th:only-of-type {\n",
       "        vertical-align: middle;\n",
       "    }\n",
       "\n",
       "    .dataframe tbody tr th {\n",
       "        vertical-align: top;\n",
       "    }\n",
       "\n",
       "    .dataframe thead th {\n",
       "        text-align: right;\n",
       "    }\n",
       "</style>\n",
       "<table border=\"1\" class=\"dataframe\">\n",
       "  <thead>\n",
       "    <tr style=\"text-align: right;\">\n",
       "      <th></th>\n",
       "      <th>coupon_id</th>\n",
       "      <th>customer_id</th>\n",
       "      <th>brand</th>\n",
       "      <th>brand_type</th>\n",
       "      <th>category</th>\n",
       "      <th>coup_sum</th>\n",
       "      <th>coupon_discount_x</th>\n",
       "      <th>coupon_used_x</th>\n",
       "      <th>item_counts</th>\n",
       "      <th>no_of_customers</th>\n",
       "      <th>...</th>\n",
       "      <th>month</th>\n",
       "      <th>other_discount_y</th>\n",
       "      <th>quantity_y</th>\n",
       "      <th>selling_price_y</th>\n",
       "      <th>weekday</th>\n",
       "      <th>coup_dis_sum</th>\n",
       "      <th>customer_id_count</th>\n",
       "      <th>odd_sum</th>\n",
       "      <th>quan_sum</th>\n",
       "      <th>sell_price_sum</th>\n",
       "    </tr>\n",
       "  </thead>\n",
       "  <tbody>\n",
       "    <tr>\n",
       "      <th>0</th>\n",
       "      <td>727</td>\n",
       "      <td>316</td>\n",
       "      <td>782</td>\n",
       "      <td>0</td>\n",
       "      <td>6</td>\n",
       "      <td>-988.37</td>\n",
       "      <td>-0.196600</td>\n",
       "      <td>40.0</td>\n",
       "      <td>61</td>\n",
       "      <td>26.131148</td>\n",
       "      <td>...</td>\n",
       "      <td>3</td>\n",
       "      <td>-13.144556</td>\n",
       "      <td>319.726764</td>\n",
       "      <td>94.708872</td>\n",
       "      <td>0</td>\n",
       "      <td>-17.81</td>\n",
       "      <td>893</td>\n",
       "      <td>-11738.088433</td>\n",
       "      <td>285516</td>\n",
       "      <td>84575.022617</td>\n",
       "    </tr>\n",
       "    <tr>\n",
       "      <th>1</th>\n",
       "      <td>172</td>\n",
       "      <td>1052</td>\n",
       "      <td>56</td>\n",
       "      <td>1</td>\n",
       "      <td>6</td>\n",
       "      <td>-211.23</td>\n",
       "      <td>-1.760250</td>\n",
       "      <td>1.0</td>\n",
       "      <td>24</td>\n",
       "      <td>4.375000</td>\n",
       "      <td>...</td>\n",
       "      <td>6</td>\n",
       "      <td>-15.212603</td>\n",
       "      <td>1.132251</td>\n",
       "      <td>110.264589</td>\n",
       "      <td>3</td>\n",
       "      <td>-4291.84</td>\n",
       "      <td>862</td>\n",
       "      <td>-13113.264167</td>\n",
       "      <td>976</td>\n",
       "      <td>95048.075833</td>\n",
       "    </tr>\n",
       "    <tr>\n",
       "      <th>2</th>\n",
       "      <td>692</td>\n",
       "      <td>668</td>\n",
       "      <td>686</td>\n",
       "      <td>0</td>\n",
       "      <td>11</td>\n",
       "      <td>-3098.21</td>\n",
       "      <td>-4.782736</td>\n",
       "      <td>74.0</td>\n",
       "      <td>65</td>\n",
       "      <td>12.646154</td>\n",
       "      <td>...</td>\n",
       "      <td>5</td>\n",
       "      <td>-15.122693</td>\n",
       "      <td>475.184536</td>\n",
       "      <td>83.857965</td>\n",
       "      <td>0</td>\n",
       "      <td>-19.59</td>\n",
       "      <td>970</td>\n",
       "      <td>-14669.011945</td>\n",
       "      <td>460929</td>\n",
       "      <td>81342.225939</td>\n",
       "    </tr>\n",
       "    <tr>\n",
       "      <th>3</th>\n",
       "      <td>1015</td>\n",
       "      <td>60</td>\n",
       "      <td>507</td>\n",
       "      <td>0</td>\n",
       "      <td>6</td>\n",
       "      <td>-277.84</td>\n",
       "      <td>-0.205911</td>\n",
       "      <td>9.0</td>\n",
       "      <td>14</td>\n",
       "      <td>22.785714</td>\n",
       "      <td>...</td>\n",
       "      <td>5</td>\n",
       "      <td>-13.323057</td>\n",
       "      <td>46.473558</td>\n",
       "      <td>85.545573</td>\n",
       "      <td>2</td>\n",
       "      <td>-2120.10</td>\n",
       "      <td>3328</td>\n",
       "      <td>-44339.132315</td>\n",
       "      <td>154664</td>\n",
       "      <td>284695.667192</td>\n",
       "    </tr>\n",
       "    <tr>\n",
       "      <th>4</th>\n",
       "      <td>76</td>\n",
       "      <td>1546</td>\n",
       "      <td>56</td>\n",
       "      <td>1</td>\n",
       "      <td>6</td>\n",
       "      <td>0.00</td>\n",
       "      <td>0.000000</td>\n",
       "      <td>0.0</td>\n",
       "      <td>1</td>\n",
       "      <td>50.000000</td>\n",
       "      <td>...</td>\n",
       "      <td>4</td>\n",
       "      <td>-12.869908</td>\n",
       "      <td>1.287614</td>\n",
       "      <td>152.884868</td>\n",
       "      <td>0</td>\n",
       "      <td>0.00</td>\n",
       "      <td>1203</td>\n",
       "      <td>-15482.499000</td>\n",
       "      <td>1549</td>\n",
       "      <td>183920.496500</td>\n",
       "    </tr>\n",
       "  </tbody>\n",
       "</table>\n",
       "<p>5 rows × 41 columns</p>\n",
       "</div>"
      ],
      "text/plain": [
       "   coupon_id  customer_id  brand  brand_type  category  coup_sum  \\\n",
       "0        727          316    782           0         6   -988.37   \n",
       "1        172         1052     56           1         6   -211.23   \n",
       "2        692          668    686           0        11  -3098.21   \n",
       "3       1015           60    507           0         6   -277.84   \n",
       "4         76         1546     56           1         6      0.00   \n",
       "\n",
       "   coupon_discount_x  coupon_used_x  item_counts  no_of_customers  ...  month  \\\n",
       "0          -0.196600           40.0           61        26.131148  ...      3   \n",
       "1          -1.760250            1.0           24         4.375000  ...      6   \n",
       "2          -4.782736           74.0           65        12.646154  ...      5   \n",
       "3          -0.205911            9.0           14        22.785714  ...      5   \n",
       "4           0.000000            0.0            1        50.000000  ...      4   \n",
       "\n",
       "   other_discount_y  quantity_y  selling_price_y  weekday  coup_dis_sum  \\\n",
       "0        -13.144556  319.726764        94.708872        0        -17.81   \n",
       "1        -15.212603    1.132251       110.264589        3      -4291.84   \n",
       "2        -15.122693  475.184536        83.857965        0        -19.59   \n",
       "3        -13.323057   46.473558        85.545573        2      -2120.10   \n",
       "4        -12.869908    1.287614       152.884868        0          0.00   \n",
       "\n",
       "   customer_id_count       odd_sum  quan_sum  sell_price_sum  \n",
       "0                893 -11738.088433    285516    84575.022617  \n",
       "1                862 -13113.264167       976    95048.075833  \n",
       "2                970 -14669.011945    460929    81342.225939  \n",
       "3               3328 -44339.132315    154664   284695.667192  \n",
       "4               1203 -15482.499000      1549   183920.496500  \n",
       "\n",
       "[5 rows x 41 columns]"
      ]
     },
     "execution_count": 95,
     "metadata": {},
     "output_type": "execute_result"
    }
   ],
   "source": [
    "train.head()"
   ]
  },
  {
   "cell_type": "code",
   "execution_count": 96,
   "metadata": {},
   "outputs": [
    {
     "data": {
      "text/plain": [
       "Index(['coupon_id', 'customer_id', 'brand', 'brand_type', 'category',\n",
       "       'coup_sum', 'coupon_discount_x', 'coupon_used_x', 'item_counts',\n",
       "       'no_of_customers', 'other_discount_x', 'other_sum', 'price_sum',\n",
       "       'quantity_x', 'quantity_sum', 'selling_price_x', 'total_counts',\n",
       "       'total_discount_mean', 'total_discount_sum', 'campaign_type',\n",
       "       'campaign_duration', 'age_range', 'marital_status', 'rented',\n",
       "       'family_size', 'no_of_children', 'income_bracket', 'coupon_discount_y',\n",
       "       'coupon_used_y', 'day', 'no_of_items', 'month', 'other_discount_y',\n",
       "       'quantity_y', 'selling_price_y', 'weekday', 'coup_dis_sum',\n",
       "       'customer_id_count', 'odd_sum', 'quan_sum', 'sell_price_sum'],\n",
       "      dtype='object')"
      ]
     },
     "execution_count": 96,
     "metadata": {},
     "output_type": "execute_result"
    }
   ],
   "source": [
    "train.columns"
   ]
  },
  {
   "cell_type": "code",
   "execution_count": 97,
   "metadata": {},
   "outputs": [
    {
     "data": {
      "text/plain": [
       "(62695, 41)"
      ]
     },
     "execution_count": 97,
     "metadata": {},
     "output_type": "execute_result"
    }
   ],
   "source": [
    "train.shape"
   ]
  },
  {
   "cell_type": "code",
   "execution_count": 98,
   "metadata": {},
   "outputs": [
    {
     "data": {
      "text/plain": [
       "0        0\n",
       "1        0\n",
       "2        0\n",
       "3        0\n",
       "4        0\n",
       "        ..\n",
       "62690    0\n",
       "62691    0\n",
       "62692    0\n",
       "62693    0\n",
       "62694    0\n",
       "Name: redemption_status, Length: 62695, dtype: int64"
      ]
     },
     "execution_count": 98,
     "metadata": {},
     "output_type": "execute_result"
    }
   ],
   "source": [
    "target"
   ]
  },
  {
   "cell_type": "markdown",
   "metadata": {},
   "source": [
    " **Univariate and Bivariate Analysis**"
   ]
  },
  {
   "cell_type": "markdown",
   "metadata": {},
   "source": [
    "## Model Building\n",
    "**building models , I am using Logistic Regression**\n",
    " - To be Covered Are:\n",
    "* Logistic Regression\n",
    "* kNN\n",
    "* Naive Bayes\n",
    "* Decision Tree\n",
    "* Random Forest etc"
   ]
  },
  {
   "cell_type": "code",
   "execution_count": 99,
   "metadata": {},
   "outputs": [],
   "source": [
    "from sklearn.preprocessing import StandardScaler"
   ]
  },
  {
   "cell_type": "code",
   "execution_count": 100,
   "metadata": {},
   "outputs": [],
   "source": [
    "x = pd.DataFrame(train)\n",
    "y = target\n",
    "col_names = ['coup_sum','coupon_discount_x', 'coupon_used_x', 'item_counts', 'no_of_customers',\n",
    "       'other_sum', 'other_discount_x', 'price_sum', 'quantity_sum', 'quantity_x',\n",
    "       'selling_price_x', 'total_counts', 'total_discount_mean',\n",
    "       'total_discount_sum', 'campaign_type', 'campaign_duration',\n",
    "        'family_size', 'no_of_children',\n",
    "       'income_bracket', 'coupon_discount_y', 'coupon_used_y',\n",
    "       'no_of_items', 'other_discount_y', 'quantity_y',\n",
    "       'selling_price_y', 'coup_dis_sum', 'customer_id_count', 'odd_sum', 'quan_sum',\n",
    "       'sell_price_sum']\n",
    "features = x[col_names]\n",
    "scaler = StandardScaler().fit(features.values)\n",
    "features = scaler.transform(features.values)\n",
    "x[col_names] = features\n",
    "x = np.array(x)"
   ]
  },
  {
   "cell_type": "code",
   "execution_count": 101,
   "metadata": {},
   "outputs": [
    {
     "data": {
      "text/plain": [
       "array([[ 7.27000000e+02,  3.16000000e+02,  7.82000000e+02, ...,\n",
       "         2.43376588e-01,  5.96049081e-01, -2.99919580e-01],\n",
       "       [ 1.72000000e+02,  1.05200000e+03,  5.60000000e+01, ...,\n",
       "         1.00221882e-01, -5.84196654e-01, -1.47115071e-01],\n",
       "       [ 6.92000000e+02,  6.68000000e+02,  6.86000000e+02, ...,\n",
       "        -6.17302301e-02,  1.32364606e+00, -3.47086905e-01],\n",
       "       ...,\n",
       "       [ 5.01000000e+02,  5.10000000e+02,  2.24000000e+02, ...,\n",
       "        -1.43751130e+00,  1.64600285e-01,  5.02907260e-01],\n",
       "       [ 8.88000000e+02,  1.53300000e+03,  1.10100000e+03, ...,\n",
       "         9.06148491e-01,  5.19472526e-02, -9.72503273e-01],\n",
       "       [ 1.09900000e+03,  1.09100000e+03,  2.08800000e+03, ...,\n",
       "        -2.65317007e+00,  4.14512358e+00,  1.94260832e+00]])"
      ]
     },
     "execution_count": 101,
     "metadata": {},
     "output_type": "execute_result"
    }
   ],
   "source": [
    "x"
   ]
  },
  {
   "cell_type": "code",
   "execution_count": 102,
   "metadata": {},
   "outputs": [],
   "source": [
    "x_train,x_test,y_train,y_test = train_test_split(x,y,test_size=0.3,random_state=2439)"
   ]
  },
  {
   "cell_type": "code",
   "execution_count": 103,
   "metadata": {},
   "outputs": [
    {
     "data": {
      "text/plain": [
       "((43886, 41), (43886,), (18809, 41), (18809,))"
      ]
     },
     "execution_count": 103,
     "metadata": {},
     "output_type": "execute_result"
    }
   ],
   "source": [
    "x_train.shape,y_train.shape,x_test.shape,y_test.shape"
   ]
  },
  {
   "cell_type": "markdown",
   "metadata": {},
   "source": [
    "## Logistic Regression"
   ]
  },
  {
   "cell_type": "code",
   "execution_count": 104,
   "metadata": {},
   "outputs": [
    {
     "name": "stdout",
     "output_type": "stream",
     "text": [
      "              precision    recall  f1-score   support\n",
      "\n",
      "           0       0.99      1.00      0.99     18625\n",
      "           1       0.25      0.03      0.05       184\n",
      "\n",
      "    accuracy                           0.99     18809\n",
      "   macro avg       0.62      0.51      0.52     18809\n",
      "weighted avg       0.98      0.99      0.99     18809\n",
      "\n"
     ]
    },
    {
     "name": "stderr",
     "output_type": "stream",
     "text": [
      "C:\\Users\\nidhi\\anaconda3\\lib\\site-packages\\sklearn\\linear_model\\_logistic.py:940: ConvergenceWarning: lbfgs failed to converge (status=1):\n",
      "STOP: TOTAL NO. of ITERATIONS REACHED LIMIT.\n",
      "\n",
      "Increase the number of iterations (max_iter) or scale the data as shown in:\n",
      "    https://scikit-learn.org/stable/modules/preprocessing.html\n",
      "Please also refer to the documentation for alternative solver options:\n",
      "    https://scikit-learn.org/stable/modules/linear_model.html#logistic-regression\n",
      "  extra_warning_msg=_LOGISTIC_SOLVER_CONVERGENCE_MSG)\n"
     ]
    }
   ],
   "source": [
    "LR = LogisticRegression()\n",
    "LR.fit(x_train,y_train)\n",
    "y_pred_LR = LR.predict(x_test)\n",
    "print(classification_report(y_test,y_pred_LR))\n"
   ]
  },
  {
   "cell_type": "code",
   "execution_count": 105,
   "metadata": {},
   "outputs": [],
   "source": [
    "roc_auc_score(y_test,y_pred_LR)\n",
    "Model = ['Logistic Regression']\n",
    "ROC_AUC_Accuracy = [roc_auc_score(y_test,y_pred_LR)]"
   ]
  },
  {
   "cell_type": "code",
   "execution_count": 106,
   "metadata": {},
   "outputs": [
    {
     "name": "stdout",
     "output_type": "stream",
     "text": [
      "Confusion Matrix :\n",
      "[[18610    15]\n",
      " [  179     5]]\n",
      "Accuracy Score : 0.9896857887181668\n",
      "Report : \n",
      "              precision    recall  f1-score   support\n",
      "\n",
      "           0       0.99      1.00      0.99     18625\n",
      "           1       0.25      0.03      0.05       184\n",
      "\n",
      "    accuracy                           0.99     18809\n",
      "   macro avg       0.62      0.51      0.52     18809\n",
      "weighted avg       0.98      0.99      0.99     18809\n",
      "\n"
     ]
    }
   ],
   "source": [
    "from sklearn.metrics import confusion_matrix \n",
    "from sklearn.metrics import accuracy_score \n",
    "from sklearn.metrics import classification_report \n",
    "results=confusion_matrix(y_test,y_pred_LR)\n",
    "print ('Confusion Matrix :')\n",
    "print(results) \n",
    "print ('Accuracy Score :',accuracy_score(y_test,y_pred_LR) )\n",
    "print ('Report : ')\n",
    "print (classification_report(y_test,y_pred_LR) )"
   ]
  },
  {
   "cell_type": "code",
   "execution_count": 107,
   "metadata": {},
   "outputs": [],
   "source": [
    "#Function to visulise confusion matrix\n",
    "def draw_cm( y_test,y_pred_LR ):\n",
    "    cm = metrics.confusion_matrix( y_test,y_pred_LR )\n",
    "    sns.heatmap(cm, annot=True,  fmt='.2f', xticklabels = [\"0\", \"1\"] , yticklabels = [\"0\", \"1\"] , cmap=\"Greens\")\n",
    "    plt.ylabel('True label')\n",
    "    plt.xlabel('Predicted label')\n",
    "    plt.show()"
   ]
  },
  {
   "cell_type": "code",
   "execution_count": 108,
   "metadata": {},
   "outputs": [
    {
     "name": "stdout",
     "output_type": "stream",
     "text": [
      "confusion matrix = \n",
      " [[18610    15]\n",
      " [  179     5]]\n"
     ]
    }
   ],
   "source": [
    "#Confusion matrix\n",
    "from sklearn.metrics import classification_report,confusion_matrix\n",
    "mat_pruned = confusion_matrix(y_test,y_pred_LR )\n",
    "\n",
    "print(\"confusion matrix = \\n\",mat_pruned)"
   ]
  },
  {
   "cell_type": "code",
   "execution_count": 109,
   "metadata": {},
   "outputs": [],
   "source": [
    "def create_conf_mat(y_test,y_pred_LR):\n",
    "    if (len(y_test.shape) != len(y_pred_LR.shape) == 1):\n",
    "        return print('Arrays entered are not 1-D.\\nPlease enter the correctly sized sets.')\n",
    "    elif (y_test.shape != y_pred_LR.shape):\n",
    "        return print('Number of values inside the Arrays are not equal to each other.\\nPlease make sure the array has the same number of instances.')\n",
    "    else:\n",
    "        # Set Metrics\n",
    "        test_crosstb_comp = pd.crosstab(index = y_test,\n",
    "                                       columns = y_pred_LR)\n",
    "        # Changed for Future deprecation of as_matrix\n",
    "        test_crosstb = test_crosstb_comp.values\n",
    "        return test_crosstb"
   ]
  },
  {
   "cell_type": "code",
   "execution_count": 110,
   "metadata": {},
   "outputs": [
    {
     "data": {
      "image/png": "[encoded data removed]",
      "text/plain": [
       "<Figure size 432x288 with 1 Axes>"
      ]
     },
     "metadata": {
      "needs_background": "light"
     },
     "output_type": "display_data"
    }
   ],
   "source": [
    "conf_mat = create_conf_mat(y_test,y_pred_LR)\n",
    "sns.heatmap(conf_mat, annot=True, fmt='d', cbar=False)\n",
    "plt.xlabel('Predicted Values')\n",
    "plt.ylabel('Actual Values')\n",
    "plt.title('Actual vs. Predicted Confusion Matrix')\n",
    "plt.show()\n"
   ]
  },
  {
   "cell_type": "code",
   "execution_count": 111,
   "metadata": {},
   "outputs": [],
   "source": [
    "#Get predicted probabilites\n",
    "target_probailities_log = LR.predict_proba(x_test)[:,1]"
   ]
  },
  {
   "cell_type": "code",
   "execution_count": 112,
   "metadata": {},
   "outputs": [],
   "source": [
    "#Create true and false positive rates\n",
    "log_false_positive_rate,log_true_positive_rate,log_threshold = roc_curve(y_test,target_probailities_log)\n"
   ]
  },
  {
   "cell_type": "markdown",
   "metadata": {},
   "source": [
    "* AUC stands for Area under the curve. AUC gives the rate of successful classification by the logistic model. The AUC makes it easy to compare the ROC curve of one model to another. The AUC for the red ROC curve is greater than the AUC for the blue ROC curve."
   ]
  },
  {
   "cell_type": "code",
   "execution_count": 113,
   "metadata": {},
   "outputs": [
    {
     "data": {
      "image/png": "[encoded data removed]",
      "text/plain": [
       "<Figure size 720x432 with 1 Axes>"
      ]
     },
     "metadata": {},
     "output_type": "display_data"
    }
   ],
   "source": [
    "#Plot ROC Curve\n",
    "sns.set_style('darkgrid')\n",
    "plt.figure(figsize=(10,6))\n",
    "plt.title('Reciver Operating Characterstic Curve')\n",
    "plt.plot(log_false_positive_rate,log_true_positive_rate)\n",
    "plt.plot([0,1],ls='--')\n",
    "plt.plot([0,0],[1,0],c='.5')\n",
    "plt.plot([1,1],c='.5')\n",
    "plt.ylabel('True positive rate')\n",
    "plt.xlabel('False positive rate')\n",
    "plt.show()\n"
   ]
  },
  {
   "cell_type": "markdown",
   "metadata": {},
   "source": [
    " **It illustrates in a binary classifier system the discrimination threshold created by plotting the true positive rate vs false positive rate.**\n",
    "* As the AUC will only increase if and only if ROC has points on the top left as it conveys that for some threshold the model has high TPR and low FPR.\n",
    "* So that was about the ROC_AUC curve.\n",
    "* anything above 0.5 conider as 1 and below 0.5 as 0"
   ]
  },
  {
   "cell_type": "markdown",
   "metadata": {},
   "source": [
    "\n",
    "## or"
   ]
  },
  {
   "cell_type": "code",
   "execution_count": 114,
   "metadata": {
    "scrolled": true
   },
   "outputs": [
    {
     "name": "stdout",
     "output_type": "stream",
     "text": [
      "Logistic train roc-auc: 0.8180876141094768\n",
      "Logistic test roc-auc: 0.84577910709075\n"
     ]
    },
    {
     "name": "stderr",
     "output_type": "stream",
     "text": [
      "C:\\Users\\nidhi\\anaconda3\\lib\\site-packages\\sklearn\\linear_model\\_logistic.py:940: ConvergenceWarning: lbfgs failed to converge (status=1):\n",
      "STOP: TOTAL NO. of ITERATIONS REACHED LIMIT.\n",
      "\n",
      "Increase the number of iterations (max_iter) or scale the data as shown in:\n",
      "    https://scikit-learn.org/stable/modules/preprocessing.html\n",
      "Please also refer to the documentation for alternative solver options:\n",
      "    https://scikit-learn.org/stable/modules/linear_model.html#logistic-regression\n",
      "  extra_warning_msg=_LOGISTIC_SOLVER_CONVERGENCE_MSG)\n"
     ]
    }
   ],
   "source": [
    "from sklearn.linear_model import LogisticRegression\n",
    "log_classifier=LogisticRegression()\n",
    "log_classifier.fit(x_train, y_train)\n",
    "ytrain_pred = log_classifier.predict_proba(x_train)\n",
    "print('Logistic train roc-auc: {}'.format(roc_auc_score(y_train, ytrain_pred[:,1])))\n",
    "ytest_pred = log_classifier.predict_proba(x_test)\n",
    "print('Logistic test roc-auc: {}'.format(roc_auc_score(y_test, ytest_pred[:,1])))"
   ]
  },
  {
   "cell_type": "code",
   "execution_count": 124,
   "metadata": {},
   "outputs": [
    {
     "name": "stdout",
     "output_type": "stream",
     "text": [
      "Ensemble test roc-auc: 0.84577910709075\n"
     ]
    }
   ],
   "source": [
    "pred=[]\n",
    "for model in [log_classifier]:\n",
    "    pred.append(pd.Series(model.predict_proba(x_test)[:,1]))\n",
    "final_prediction=pd.concat(pred,axis=1).mean(axis=1)\n",
    "print('Ensemble test roc-auc: {}'.format(roc_auc_score(y_test,final_prediction)))"
   ]
  },
  {
   "cell_type": "code",
   "execution_count": 127,
   "metadata": {},
   "outputs": [
    {
     "data": {
      "text/html": [
       "<div>\n",
       "<style scoped>\n",
       "    .dataframe tbody tr th:only-of-type {\n",
       "        vertical-align: middle;\n",
       "    }\n",
       "\n",
       "    .dataframe tbody tr th {\n",
       "        vertical-align: top;\n",
       "    }\n",
       "\n",
       "    .dataframe thead th {\n",
       "        text-align: right;\n",
       "    }\n",
       "</style>\n",
       "<table border=\"1\" class=\"dataframe\">\n",
       "  <thead>\n",
       "    <tr style=\"text-align: right;\">\n",
       "      <th></th>\n",
       "      <th>0</th>\n",
       "    </tr>\n",
       "  </thead>\n",
       "  <tbody>\n",
       "    <tr>\n",
       "      <th>0</th>\n",
       "      <td>0.004778</td>\n",
       "    </tr>\n",
       "    <tr>\n",
       "      <th>1</th>\n",
       "      <td>0.000663</td>\n",
       "    </tr>\n",
       "    <tr>\n",
       "      <th>2</th>\n",
       "      <td>0.000292</td>\n",
       "    </tr>\n",
       "    <tr>\n",
       "      <th>3</th>\n",
       "      <td>0.000956</td>\n",
       "    </tr>\n",
       "    <tr>\n",
       "      <th>4</th>\n",
       "      <td>0.006351</td>\n",
       "    </tr>\n",
       "    <tr>\n",
       "      <th>...</th>\n",
       "      <td>...</td>\n",
       "    </tr>\n",
       "    <tr>\n",
       "      <th>18804</th>\n",
       "      <td>0.004601</td>\n",
       "    </tr>\n",
       "    <tr>\n",
       "      <th>18805</th>\n",
       "      <td>0.002072</td>\n",
       "    </tr>\n",
       "    <tr>\n",
       "      <th>18806</th>\n",
       "      <td>0.001025</td>\n",
       "    </tr>\n",
       "    <tr>\n",
       "      <th>18807</th>\n",
       "      <td>0.001298</td>\n",
       "    </tr>\n",
       "    <tr>\n",
       "      <th>18808</th>\n",
       "      <td>0.039501</td>\n",
       "    </tr>\n",
       "  </tbody>\n",
       "</table>\n",
       "<p>18809 rows × 1 columns</p>\n",
       "</div>"
      ],
      "text/plain": [
       "              0\n",
       "0      0.004778\n",
       "1      0.000663\n",
       "2      0.000292\n",
       "3      0.000956\n",
       "4      0.006351\n",
       "...         ...\n",
       "18804  0.004601\n",
       "18805  0.002072\n",
       "18806  0.001025\n",
       "18807  0.001298\n",
       "18808  0.039501\n",
       "\n",
       "[18809 rows x 1 columns]"
      ]
     },
     "execution_count": 127,
     "metadata": {},
     "output_type": "execute_result"
    }
   ],
   "source": [
    "pd.concat(pred,axis=1)"
   ]
  },
  {
   "cell_type": "code",
   "execution_count": 128,
   "metadata": {},
   "outputs": [
    {
     "data": {
      "text/plain": [
       "0        0.004778\n",
       "1        0.000663\n",
       "2        0.000292\n",
       "3        0.000956\n",
       "4        0.006351\n",
       "           ...   \n",
       "18804    0.004601\n",
       "18805    0.002072\n",
       "18806    0.001025\n",
       "18807    0.001298\n",
       "18808    0.039501\n",
       "Length: 18809, dtype: float64"
      ]
     },
     "execution_count": 128,
     "metadata": {},
     "output_type": "execute_result"
    }
   ],
   "source": [
    "final_prediction"
   ]
  },
  {
   "cell_type": "code",
   "execution_count": 130,
   "metadata": {},
   "outputs": [
    {
     "data": {
      "text/plain": [
       "array([1.89352244e+00, 8.93522438e-01, 6.62194884e-01, 6.60183179e-01,\n",
       "       5.76107996e-01, 5.54987084e-01, 5.37235571e-01, 5.17206472e-01,\n",
       "       4.10438226e-01, 4.02568518e-01, 3.78259525e-01, 3.74576091e-01,\n",
       "       3.65040279e-01, 3.64883921e-01, 3.11992671e-01, 3.10167785e-01,\n",
       "       2.35697525e-01, 2.25059045e-01, 2.21201961e-01, 2.20457892e-01,\n",
       "       2.18993320e-01, 2.18892327e-01, 1.95181326e-01, 1.94323575e-01,\n",
       "       1.82392178e-01, 1.81380230e-01, 1.75142089e-01, 1.72787798e-01,\n",
       "       1.69801408e-01, 1.68088292e-01, 1.64053525e-01, 1.63565845e-01,\n",
       "       1.61269035e-01, 1.59010941e-01, 1.57016618e-01, 1.56337242e-01,\n",
       "       1.49937337e-01, 1.49761096e-01, 1.47029770e-01, 1.46266282e-01,\n",
       "       1.43887560e-01, 1.43285592e-01, 1.43094883e-01, 1.42654763e-01,\n",
       "       1.30962400e-01, 1.30751570e-01, 1.29313201e-01, 1.27268443e-01,\n",
       "       1.23939224e-01, 1.23870946e-01, 1.20700376e-01, 1.20267518e-01,\n",
       "       1.17855668e-01, 1.17667996e-01, 1.12569634e-01, 1.10504431e-01,\n",
       "       1.06196284e-01, 1.06152199e-01, 1.05122240e-01, 1.04927090e-01,\n",
       "       1.00562693e-01, 1.00512703e-01, 9.13205653e-02, 9.10716700e-02,\n",
       "       8.91647818e-02, 8.90807810e-02, 8.69071955e-02, 8.66203418e-02,\n",
       "       8.56532874e-02, 8.55530514e-02, 8.21972959e-02, 8.15861365e-02,\n",
       "       7.66443488e-02, 7.65976395e-02, 6.67367848e-02, 6.64803700e-02,\n",
       "       6.15784519e-02, 6.11486995e-02, 6.03427172e-02, 6.03040943e-02,\n",
       "       5.84379324e-02, 5.84020687e-02, 5.78913218e-02, 5.78901755e-02,\n",
       "       5.62083510e-02, 5.60063416e-02, 5.34113610e-02, 5.33601229e-02,\n",
       "       5.29875590e-02, 5.29012289e-02, 5.09765266e-02, 5.09700735e-02,\n",
       "       4.79678520e-02, 4.78505811e-02, 4.77680460e-02, 4.77643608e-02,\n",
       "       4.69875091e-02, 4.68155691e-02, 4.48865377e-02, 4.48268515e-02,\n",
       "       4.48174022e-02, 4.47715694e-02, 4.47111937e-02, 4.46568597e-02,\n",
       "       4.34632164e-02, 4.34423778e-02, 4.30165427e-02, 4.29798062e-02,\n",
       "       4.26523136e-02, 4.26300126e-02, 3.95952452e-02, 3.95753569e-02,\n",
       "       3.76922782e-02, 3.76579122e-02, 3.65350155e-02, 3.64858315e-02,\n",
       "       3.50862877e-02, 3.50650808e-02, 3.48938776e-02, 3.48344712e-02,\n",
       "       3.39688673e-02, 3.39680860e-02, 3.37524337e-02, 3.37463840e-02,\n",
       "       3.27121561e-02, 3.27031039e-02, 3.19655728e-02, 3.19615054e-02,\n",
       "       3.13222933e-02, 3.12710664e-02, 2.94073082e-02, 2.93924859e-02,\n",
       "       2.92711636e-02, 2.92622654e-02, 2.91599851e-02, 2.91104287e-02,\n",
       "       2.88711735e-02, 2.88386738e-02, 2.83123643e-02, 2.83121848e-02,\n",
       "       2.70239544e-02, 2.69744108e-02, 2.65423152e-02, 2.65300439e-02,\n",
       "       2.63146545e-02, 2.62903713e-02, 2.54474028e-02, 2.54353975e-02,\n",
       "       2.51901450e-02, 2.51822785e-02, 2.43240085e-02, 2.43013627e-02,\n",
       "       2.42282926e-02, 2.41873927e-02, 2.34606994e-02, 2.34599470e-02,\n",
       "       2.21581925e-02, 2.21442819e-02, 2.20810558e-02, 2.20653014e-02,\n",
       "       2.19256756e-02, 2.19096515e-02, 2.17577609e-02, 2.17372025e-02,\n",
       "       2.16963925e-02, 2.16896682e-02, 2.15176887e-02, 2.14996184e-02,\n",
       "       2.12441661e-02, 2.12376385e-02, 2.10063963e-02, 2.10049995e-02,\n",
       "       2.09248482e-02, 2.09149524e-02, 2.05891123e-02, 2.05876210e-02,\n",
       "       2.01433913e-02, 2.01133534e-02, 2.00979294e-02, 2.00557242e-02,\n",
       "       2.00323903e-02, 2.00051200e-02, 1.99765005e-02, 1.99755538e-02,\n",
       "       1.96968439e-02, 1.96916741e-02, 1.88816946e-02, 1.88718781e-02,\n",
       "       1.84942546e-02, 1.84939595e-02, 1.81519690e-02, 1.81499970e-02,\n",
       "       1.81251337e-02, 1.81175886e-02, 1.80504099e-02, 1.80493559e-02,\n",
       "       1.78871280e-02, 1.78869363e-02, 1.75817686e-02, 1.75814555e-02,\n",
       "       1.75357014e-02, 1.75299147e-02, 1.74577351e-02, 1.74550957e-02,\n",
       "       1.73338051e-02, 1.73315384e-02, 1.72997267e-02, 1.72978679e-02,\n",
       "       1.70386162e-02, 1.70381506e-02, 1.66969777e-02, 1.66949143e-02,\n",
       "       1.64383217e-02, 1.64318312e-02, 1.61722880e-02, 1.61632923e-02,\n",
       "       1.60468124e-02, 1.60414597e-02, 1.59190791e-02, 1.59170114e-02,\n",
       "       1.55429539e-02, 1.55407391e-02, 1.52262686e-02, 1.52194252e-02,\n",
       "       1.50798142e-02, 1.50728767e-02, 1.47914730e-02, 1.47882277e-02,\n",
       "       1.45663722e-02, 1.45652568e-02, 1.43450805e-02, 1.43447344e-02,\n",
       "       1.41777624e-02, 1.41750068e-02, 1.39084725e-02, 1.39071243e-02,\n",
       "       1.36277459e-02, 1.36262452e-02, 1.33431559e-02, 1.33428411e-02,\n",
       "       1.32171901e-02, 1.32143933e-02, 1.29764211e-02, 1.29745897e-02,\n",
       "       1.28015913e-02, 1.28014212e-02, 1.26134575e-02, 1.26097820e-02,\n",
       "       1.24041882e-02, 1.24013727e-02, 1.23777668e-02, 1.23771004e-02,\n",
       "       1.22855059e-02, 1.22851247e-02, 1.22706122e-02, 1.22697218e-02,\n",
       "       1.19001432e-02, 1.19000628e-02, 1.18869288e-02, 1.18824878e-02,\n",
       "       1.18109212e-02, 1.18082883e-02, 1.17948072e-02, 1.17930925e-02,\n",
       "       1.11368438e-02, 1.11366931e-02, 1.10546735e-02, 1.10531434e-02,\n",
       "       1.04267860e-02, 1.04267695e-02, 1.03172449e-02, 1.03169529e-02,\n",
       "       1.02105276e-02, 1.02098195e-02, 9.62518818e-03, 9.62478587e-03,\n",
       "       9.45114356e-03, 9.44958763e-03, 9.08035517e-03, 9.07894576e-03,\n",
       "       8.86473299e-03, 8.86417426e-03, 8.84853283e-03, 8.84566884e-03,\n",
       "       8.55949481e-03, 8.55917472e-03, 8.48406973e-03, 8.48185610e-03,\n",
       "       8.31389689e-03, 8.31194205e-03, 8.28393213e-03, 8.28287990e-03,\n",
       "       8.15862469e-03, 8.15850971e-03, 7.98840919e-03, 7.98526108e-03,\n",
       "       7.84815542e-03, 7.84642730e-03, 7.69250069e-03, 7.69240393e-03,\n",
       "       7.44791774e-03, 7.44680461e-03, 6.89424749e-03, 6.89080189e-03,\n",
       "       6.26947765e-03, 6.26933618e-03, 5.88103358e-03, 5.87918367e-03,\n",
       "       5.54343470e-03, 5.54287819e-03, 5.02954745e-03, 5.02941578e-03,\n",
       "       4.33189758e-03, 4.33150418e-03, 3.77583841e-03, 3.77504193e-03,\n",
       "       3.77002506e-03, 3.76956442e-03, 3.72838086e-03, 3.72707812e-03,\n",
       "       3.67130670e-03, 3.67035360e-03, 3.55720935e-03, 3.55637578e-03,\n",
       "       3.27189407e-03, 3.27159380e-03, 3.04129561e-03, 3.04025791e-03,\n",
       "       2.81792621e-03, 2.81728690e-03, 2.69706389e-03, 2.69643346e-03,\n",
       "       2.40582545e-03, 2.40546725e-03, 2.37492219e-03, 2.37454297e-03,\n",
       "       2.36930727e-03, 2.36862676e-03, 2.17647647e-03, 2.17528702e-03,\n",
       "       2.10195885e-03, 2.10171230e-03, 1.84294922e-03, 1.84143235e-03,\n",
       "       1.46463542e-03, 1.46412133e-03, 1.27375259e-03, 1.27373154e-03,\n",
       "       1.20761319e-03, 1.20727390e-03, 1.07148800e-03, 1.07085976e-03,\n",
       "       3.18344408e-04, 3.18195756e-04, 4.85481065e-07])"
      ]
     },
     "execution_count": 130,
     "metadata": {},
     "output_type": "execute_result"
    }
   ],
   "source": [
    "fpr, tpr, thresholds = roc_curve(y_test, final_prediction)\n",
    "thresholds"
   ]
  },
  {
   "cell_type": "markdown",
   "metadata": {},
   "source": [
    "accuracy_ls = []\n",
    "for thres in thresholds:\n",
    "    y_pred = np.where(final_prediction>thres,1,0)\n",
    "    accuracy_ls.appprint('Ensemble test roc-auc: {}'.format(roc_auc_score(y_test,final_prediction)))end(accuracy_score(y_test, y_pred, normalize=True))\n",
    "    \n",
    "accuracy_ls = pd.concat([pd.Series(thresholds), pd.Series(accuracy_ls)],\n",
    "                        axis=1)\n",
    "accuracy_ls.columns = ['thresholds', 'accuracy']\n",
    "accuracy_ls.sort_values(by='accuracy', ascending=False, inplace=True)\n",
    "accuracy_ls.head()"
   ]
  },
  {
   "cell_type": "markdown",
   "metadata": {},
   "source": [
    "accuracy_ls\n",
    "Log_ROC_auc = roc_auc_score(y_test, LR.predict(x_test))"
   ]
  },
  {
   "cell_type": "code",
   "execution_count": 133,
   "metadata": {},
   "outputs": [],
   "source": [
    "def plot_roc_curve(fpr, tpr):\n",
    "    plt.plot(fpr, tpr, color='orange', label='ROC')\n",
    "    plt.plot([0, 1], [0, 1], color='darkblue', linestyle='--')\n",
    "    plt.xlabel('False Positive Rate')\n",
    "    plt.ylabel('True Positive Rate')\n",
    "    plt.title('Receiver Operating Characteristic (ROC) Curve')\n",
    "    plt.legend(loc=\"lower right\")\n",
    "    plt.show()"
   ]
  },
  {
   "cell_type": "code",
   "execution_count": 134,
   "metadata": {},
   "outputs": [
    {
     "data": {
      "image/png": "[encoded data removed]",
      "text/plain": [
       "<Figure size 432x288 with 1 Axes>"
      ]
     },
     "metadata": {},
     "output_type": "display_data"
    }
   ],
   "source": [
    "plot_roc_curve(fpr,tpr)\n"
   ]
  },
  {
   "cell_type": "code",
   "execution_count": null,
   "metadata": {},
   "outputs": [],
   "source": []
  }
 ],
 "metadata": {
  "kernelspec": {
   "display_name": "Python 3",
   "language": "python",
   "name": "python3"
  },
  "language_info": {
   "codemirror_mode": {
    "name": "ipython",
    "version": 3
   },
   "file_extension": ".py",
   "mimetype": "text/x-python",
   "name": "python",
   "nbconvert_exporter": "python",
   "pygments_lexer": "ipython3",
   "version": "3.7.6"
  }
 },
 "nbformat": 4,
 "nbformat_minor": 4
}
